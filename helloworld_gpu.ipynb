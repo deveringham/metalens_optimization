{
 "cells": [
  {
   "cell_type": "markdown",
   "id": "bd2bda21",
   "metadata": {},
   "source": [
    "**Dependencies**"
   ]
  },
  {
   "cell_type": "code",
   "execution_count": 1,
   "id": "cfe09835",
   "metadata": {},
   "outputs": [],
   "source": [
    "import tensorflow as tf\n",
    "import sys\n",
    "sys.path.append('./rcwa_tf/src/')\n",
    "import tf_utils"
   ]
  },
  {
   "cell_type": "markdown",
   "id": "4f982600",
   "metadata": {},
   "source": [
    "**List Devices**"
   ]
  },
  {
   "cell_type": "code",
   "execution_count": 2,
   "id": "832e6ba0",
   "metadata": {},
   "outputs": [
    {
     "name": "stdout",
     "output_type": "stream",
     "text": [
      "[PhysicalDevice(name='/physical_device:CPU:0', device_type='CPU'), PhysicalDevice(name='/physical_device:GPU:0', device_type='GPU'), PhysicalDevice(name='/physical_device:GPU:1', device_type='GPU')]\n"
     ]
    }
   ],
   "source": [
    "print(tf.config.list_physical_devices())"
   ]
  },
  {
   "cell_type": "markdown",
   "id": "4df6f047",
   "metadata": {},
   "source": [
    "**Wrapper Code for Device Selection**"
   ]
  },
  {
   "cell_type": "code",
   "execution_count": 3,
   "id": "a703e8d7",
   "metadata": {},
   "outputs": [
    {
     "name": "stdout",
     "output_type": "stream",
     "text": [
      " \n",
      "2 Physical GPUs\n"
     ]
    }
   ],
   "source": [
    "# Limit GPU memory growth\n",
    "tf_utils.config_gpu_memory_usage()\n",
    "\n",
    "# Choose the device to run on\n",
    "use_gpu = True\n",
    "tfDevice = '/job:localhost/replica:0/task:0/device:GPU:1' if use_gpu else '/CPU:0'"
   ]
  },
  {
   "cell_type": "code",
   "execution_count": 4,
   "id": "07958116",
   "metadata": {},
   "outputs": [
    {
     "name": "stdout",
     "output_type": "stream",
     "text": [
      "Executing on device /job:localhost/replica:0/task:0/device:GPU:1 ...\n"
     ]
    }
   ],
   "source": [
    "with tf.device(tfDevice):\n",
    "    print('Executing on device ' + tfDevice + ' ...')\n",
    "    # Computations here"
   ]
  }
 ],
 "metadata": {
  "kernelspec": {
   "display_name": "Python 3",
   "language": "python",
   "name": "python3"
  },
  "language_info": {
   "codemirror_mode": {
    "name": "ipython",
    "version": 3
   },
   "file_extension": ".py",
   "mimetype": "text/x-python",
   "name": "python",
   "nbconvert_exporter": "python",
   "pygments_lexer": "ipython3",
   "version": "3.6.8"
  }
 },
 "nbformat": 4,
 "nbformat_minor": 5
}
