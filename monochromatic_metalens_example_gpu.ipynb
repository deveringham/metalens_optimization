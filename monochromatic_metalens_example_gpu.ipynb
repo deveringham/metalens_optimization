{
 "cells": [
  {
   "cell_type": "markdown",
   "metadata": {},
   "source": [
    "**GPU Setup**"
   ]
  },
  {
   "cell_type": "code",
   "execution_count": null,
   "metadata": {},
   "outputs": [],
   "source": [
    "import tensorflow as tf\n",
    "import sys\n",
    "sys.path.append('./rcwa_tf/src/')\n",
    "import tf_utils\n",
    "\n",
    "# Limit GPU memory growth\n",
    "tf_utils.config_gpu_memory_usage()\n",
    "\n",
    "# Choose the device to run on\n",
    "use_gpu = True\n",
    "tfDevice = '/job:localhost/replica:0/task:0/device:GPU:1' if use_gpu else '/CPU:0'\n",
    "print('Executing on device ' + tfDevice + ' ...')\n",
    "\n",
    "# Measure GPU memory usage\n",
    "gpu_memory_init = tf_utils.gpu_memory_info()"
   ]
  },
  {
   "cell_type": "markdown",
   "metadata": {
    "id": "liutV-O4UzMM"
   },
   "source": [
    "**Other Imports**"
   ]
  },
  {
   "cell_type": "code",
   "execution_count": null,
   "metadata": {},
   "outputs": [],
   "source": [
    "import numpy as np\n",
    "import matplotlib.pyplot as plt\n",
    "from matplotlib import colors\n",
    "import rcwa_utils\n",
    "import solver\n",
    "import solver_metasurface"
   ]
  },
  {
   "cell_type": "markdown",
   "metadata": {
    "id": "E3JWQHQ4UzaV"
   },
   "source": [
    "**Loss Function Definition**"
   ]
  },
  {
   "cell_type": "code",
   "execution_count": null,
   "metadata": {
    "id": "ZWkgQTE9Uzgx"
   },
   "outputs": [],
   "source": [
    "def focal_spot():\n",
    "\n",
    "  # Global parameters dictionary.\n",
    "  global params\n",
    "\n",
    "  # Generate permittivity and permeability distributions.\n",
    "  ER_t, UR_t = solver.generate_coupled_cylindrical_resonators(r_x_var, r_y_var, params)\n",
    "\n",
    "  # Simulate the system.\n",
    "  outputs = solver.simulate(ER_t, UR_t, params)\n",
    "  field = outputs['ty'][:, :, :, np.prod(params['PQ']) // 2, 0]\n",
    "  focal_plane = solver.propagate(params['input'] * field, params['propagator'], params['upsample'])\n",
    "  index = (params['pixelsX'] * params['upsample']) // 2\n",
    "  f1 = tf.abs(focal_plane[0, index, index])\n",
    "\n",
    "  # Maximize the electric field magnitude at the desired focal spot.\n",
    "  return -f1"
   ]
  },
  {
   "cell_type": "markdown",
   "metadata": {
    "id": "IcYSGM85Uzou"
   },
   "source": [
    "**Setup and Initialize Variables**"
   ]
  },
  {
   "cell_type": "code",
   "execution_count": null,
   "metadata": {
    "id": "ha4It8BUUzvG"
   },
   "outputs": [],
   "source": [
    "with tf.device(tfDevice):\n",
    "    \n",
    "    # Initialize global params dictionary.\n",
    "    nPixels = 10\n",
    "    params = solver.initialize_params(wavelengths = [632.0],\n",
    "                          thetas = [0.0],\n",
    "                          phis = [0.0],\n",
    "                          pte = [1.0],\n",
    "                          ptm = [0.0],\n",
    "                          pixelsX = nPixels,\n",
    "                          pixelsY = nPixels)\n",
    "    params['erd'] = 6.76 # Grating layer permittivity.\n",
    "    params['ers'] = 2.25 # Subtrate layer permittivity.\n",
    "    params['PQ'] = [5, 5] # Fourier Harmonics.\n",
    "    params['Nx'] = 128\n",
    "    params['Ny'] = params['Nx']\n",
    "    params['upsample'] = 11\n",
    "    params['f'] = 1.0 * params['Lx'] * params['pixelsX']\n",
    "    params['debug'] = False\n",
    "\n",
    "    # Define the free-space propagator and input field distribution for the metasurface.\n",
    "    params['propagator'] = solver.make_propagator(params, params['f'])\n",
    "    params['input'] = solver.define_input_fields(params)\n",
    "\n",
    "    # Define duty cycles for unit cells based on 4 coupled elliptical nanoposts.\n",
    "    var_shape = (1, params['pixelsX'], params['pixelsY'], 4)\n",
    "    r_x_initial = 0.175 * np.ones(shape = var_shape)\n",
    "    r_y_initial = r_x_initial\n",
    "    r_x_var = tf.Variable(r_x_initial, dtype = tf.float32)\n",
    "    r_y_var = tf.Variable(r_y_initial, dtype = tf.float32)\n",
    "\n",
    "    ER_t, UR_t = solver.generate_coupled_cylindrical_resonators(r_x_var, r_y_var, params)\n",
    "    solver_metasurface.display_metasurface(ER_t, params)"
   ]
  },
  {
   "cell_type": "markdown",
   "metadata": {
    "id": "FtwT36NEUz1a"
   },
   "source": [
    "**Optimize**"
   ]
  },
  {
   "cell_type": "code",
   "execution_count": null,
   "metadata": {
    "colab": {
     "base_uri": "https://localhost:8080/"
    },
    "id": "24klN1XRUz7s",
    "outputId": "212658f6-0c8a-4da0-f04b-d447204cdfb4"
   },
   "outputs": [],
   "source": [
    "with tf.device(tfDevice):\n",
    "    \n",
    "    # Number of optimization iterations.\n",
    "    N = 10\n",
    "\n",
    "    # Define an optimizer and data to be stored.\n",
    "    opt = tf.keras.optimizers.Adam(learning_rate = 2E-4)\n",
    "    loss = np.zeros(N + 1)\n",
    "\n",
    "    # Compute initial loss and duty cycle.\n",
    "    loss[0] = focal_spot().numpy()\n",
    "    print('Loss: ' + str(loss[0]))\n",
    "    print('\\nOptimizing...')\n",
    "\n",
    "    # Optimize.\n",
    "    for i in range(N):\n",
    "            \n",
    "        opt.minimize(focal_spot, var_list = [r_x_var, r_y_var])\n",
    "        l = focal_spot()\n",
    "        loss[i + 1] = l.numpy()\n",
    "        print('Iteration ' + str(i))\n",
    "        print('Loss: ' + str(loss[i+1]))"
   ]
  },
  {
   "cell_type": "markdown",
   "metadata": {
    "id": "hX6jzUfcU0CY"
   },
   "source": [
    "**Display Learning Curve**"
   ]
  },
  {
   "cell_type": "code",
   "execution_count": null,
   "metadata": {
    "colab": {
     "base_uri": "https://localhost:8080/",
     "height": 278
    },
    "id": "8Sz1QpoxU0Je",
    "outputId": "ea785734-74ce-47f9-fed5-c346eb3bf546"
   },
   "outputs": [],
   "source": [
    "with tf.device(tfDevice):\n",
    "    \n",
    "    plt.plot(loss)\n",
    "    plt.xlabel('Iterations')\n",
    "    plt.ylabel('Loss')\n",
    "    plt.xlim(0, N)\n",
    "    plt.show()"
   ]
  },
  {
   "cell_type": "markdown",
   "metadata": {
    "id": "Sqkosi67VvNc"
   },
   "source": [
    "**Calculate the Focal Plane Intensity of the Optimized Structure**"
   ]
  },
  {
   "cell_type": "code",
   "execution_count": null,
   "metadata": {
    "colab": {
     "base_uri": "https://localhost:8080/",
     "height": 286
    },
    "id": "HhBoAefiVvVe",
    "outputId": "417a8ea5-fcf4-42d3-8ddf-b05465345826"
   },
   "outputs": [],
   "source": [
    "with tf.device(tfDevice):\n",
    "    \n",
    "    ER_t, UR_t = solver.generate_coupled_cylindrical_resonators(r_x_var, r_y_var, params)\n",
    "    outputs = solver.simulate(ER_t, UR_t, params)\n",
    "    field = outputs['ty'][:, :, :, np.prod(params['PQ']) // 2, 0]\n",
    "    focal_plane = solver.propagate(params['input'] * field, params['propagator'], params['upsample'])\n",
    "    plt.imshow(tf.abs(focal_plane[0, :, :]) ** 2)\n",
    "    plt.colorbar()"
   ]
  },
  {
   "cell_type": "markdown",
   "metadata": {
    "id": "v9stKGmQWVR4"
   },
   "source": [
    "**Display Final Metasurface Shape**"
   ]
  },
  {
   "cell_type": "code",
   "execution_count": null,
   "metadata": {},
   "outputs": [],
   "source": [
    "with tf.device(tfDevice):\n",
    "    \n",
    "    solver_metasurface.display_metasurface(ER_t, params)"
   ]
  },
  {
   "cell_type": "markdown",
   "metadata": {},
   "source": [
    "**Check GPU Memory Usage**"
   ]
  },
  {
   "cell_type": "code",
   "execution_count": null,
   "metadata": {},
   "outputs": [],
   "source": [
    "gpu_memory_final = tf_utils.gpu_memory_info()\n",
    "gpu_memory_used = [gpu_memory_final[1][0] - gpu_memory_init[1][0], gpu_memory_final[1][1] - gpu_memory_init[1][1]]\n",
    "print('Memory used on each GPU(MiB): ' + str(gpu_memory_used))"
   ]
  }
 ],
 "metadata": {
  "accelerator": "GPU",
  "colab": {
   "collapsed_sections": [],
   "name": "monochromatic_metalens_example.ipynb",
   "provenance": []
  },
  "kernelspec": {
   "display_name": "Python 3",
   "language": "python",
   "name": "python3"
  },
  "language_info": {
   "codemirror_mode": {
    "name": "ipython",
    "version": 3
   },
   "file_extension": ".py",
   "mimetype": "text/x-python",
   "name": "python",
   "nbconvert_exporter": "python",
   "pygments_lexer": "ipython3",
   "version": "3.6.8"
  }
 },
 "nbformat": 4,
 "nbformat_minor": 1
}
