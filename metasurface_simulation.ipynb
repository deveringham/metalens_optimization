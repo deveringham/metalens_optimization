{
 "cells": [
  {
   "cell_type": "markdown",
   "id": "577ba998",
   "metadata": {},
   "source": [
    "**Dependencies**"
   ]
  },
  {
   "cell_type": "code",
   "execution_count": 1,
   "id": "0c67686c",
   "metadata": {},
   "outputs": [],
   "source": [
    "import tensorflow as tf\n",
    "import numpy as np\n",
    "import matplotlib.pyplot as plt\n",
    "from matplotlib import colors\n",
    "import sys\n",
    "import pdb\n",
    "\n",
    "sys.path.append('/home/deveringham/thesis/rcwa_tf/src/')\n",
    "import rcwa_utils\n",
    "import tensor_utils\n",
    "import solver\n",
    "import solver_metasurface\n",
    "import tf_utils"
   ]
  },
  {
   "cell_type": "markdown",
   "id": "0a0d39c1",
   "metadata": {},
   "source": [
    "**Configure Devices and Measure GPU Memory Usage**"
   ]
  },
  {
   "cell_type": "code",
   "execution_count": 2,
   "id": "4e14a02f",
   "metadata": {},
   "outputs": [
    {
     "name": "stdout",
     "output_type": "stream",
     "text": [
      " \n",
      "Physical devices cannot be modified after being initialized\n",
      "Executing on device /job:localhost/replica:0/task:0/device:GPU:1 ...\n"
     ]
    }
   ],
   "source": [
    "# Limit GPU memory growth\n",
    "tf_utils.config_gpu_memory_usage()\n",
    "\n",
    "# Choose the device to run on\n",
    "use_gpu = True\n",
    "tfDevice = '/job:localhost/replica:0/task:0/device:GPU:1' if use_gpu else '/CPU:0'\n",
    "print('Executing on device ' + tfDevice + ' ...')\n",
    "\n",
    "gpu_memory_init = tf_utils.gpu_memory_info()"
   ]
  },
  {
   "cell_type": "markdown",
   "id": "68dc16ac",
   "metadata": {},
   "source": [
    "**Initialize Parameters**"
   ]
  },
  {
   "cell_type": "code",
   "execution_count": 3,
   "id": "7aeded4b",
   "metadata": {},
   "outputs": [
    {
     "ename": "SyntaxError",
     "evalue": "invalid syntax (<ipython-input-3-3e3cc0347339>, line 4)",
     "output_type": "error",
     "traceback": [
      "\u001b[0;36m  File \u001b[0;32m\"<ipython-input-3-3e3cc0347339>\"\u001b[0;36m, line \u001b[0;32m4\u001b[0m\n\u001b[0;31m    wavelengths = [632.0.0]\u001b[0m\n\u001b[0m                         ^\u001b[0m\n\u001b[0;31mSyntaxError\u001b[0m\u001b[0;31m:\u001b[0m invalid syntax\n"
     ]
    }
   ],
   "source": [
    "with tf.device(tfDevice):\n",
    "    \n",
    "    # Source parameters.\n",
    "    wavelengths = [632.0]\n",
    "    thetas = [0.0]\n",
    "    phis = [0.0]\n",
    "    pte = [1.0]\n",
    "    ptm = [0.0]\n",
    "    \n",
    "    # Device parmeters.\n",
    "    pixelsX = 25\n",
    "    pixelsY = pixelsX\n",
    "    erd = 6.76\n",
    "    ers = 2.25\n",
    "    eps_min = 1.0\n",
    "    eps_max = erd\n",
    "    L = [632.0, 632.0]\n",
    "    Nlay = len(L)\n",
    "    Lx = 0.7 * 632.0\n",
    "    Ly = Lx\n",
    "    \n",
    "    # Solver parameters.\n",
    "    PQ = [5,5]\n",
    "    Nx = 16\n",
    "    Ny = Nx\n",
    "    upsample = 11\n",
    "    \n",
    "    # Problem parameters.\n",
    "    random_init = True\n",
    "    debug = False\n",
    "    \n",
    "    \n",
    "    # Initialize and populate dictionary of parameters.\n",
    "    params = solver.initialize_params(wavelengths=wavelengths, thetas=thetas, phis=phis,\n",
    "                                      pte=pte, ptm=ptm,\n",
    "                                      pixelsX=pixelsX, pixelsY=pixelsY,\n",
    "                                      erd=erd, ers=ers, PQ=PQ,\n",
    "                                      Lx=Lx, Ly=Ly,\n",
    "                                      L=L, Nx=Nx,\n",
    "                                      eps_min=eps_min, eps_max=eps_max)\n",
    "    params['random_init'] = random_init\n",
    "    params['debug'] = debug\n",
    "\n",
    "    # Define the free-space propagator and input field distribution for the metasurface.\n",
    "    params['f'] = 1.0 * params['Lx'] * params['pixelsX']\n",
    "    params['upsample'] = upsample\n",
    "    params['propagator'] = solver.make_propagator(params, params['f'])\n",
    "    params['input'] = solver.define_input_fields(params)\n",
    "    \n",
    "    # Get initial permittivity and permeability profile for the metasurface.\n",
    "    z_initial = solver_metasurface.init_copilot_metasurface(params)\n",
    "    z_var = tf.Variable(z_initial, dtype=tf.float32)"
   ]
  },
  {
   "cell_type": "markdown",
   "id": "b03f9ac2",
   "metadata": {},
   "source": [
    "**Display Intensity on the Focal Plane**"
   ]
  },
  {
   "cell_type": "code",
   "execution_count": null,
   "id": "7cf33aa6",
   "metadata": {
    "scrolled": true
   },
   "outputs": [],
   "source": [
    "with tf.device(tfDevice):\n",
    "    \n",
    "    ER_t, UR_t = solver_metasurface.pixel_to_stacked(z_var, params)\n",
    "    outputs = solver.simulate(ER_t, UR_t, params)\n",
    "    field = outputs['ty'][:, :, :, np.prod(params['PQ']) // 2, 0]\n",
    "    focal_plane = solver.propagate(params['input'] * field, params['propagator'], params['upsample'])\n",
    "    plt.imshow(tf.abs(focal_plane[0, :, :]) ** 2)\n",
    "    plt.colorbar()"
   ]
  },
  {
   "cell_type": "markdown",
   "id": "0cee435e",
   "metadata": {},
   "source": [
    "**Display Metasurface**"
   ]
  },
  {
   "cell_type": "code",
   "execution_count": null,
   "id": "9baf0fc6",
   "metadata": {},
   "outputs": [],
   "source": [
    "with tf.device(tfDevice):\n",
    "    \n",
    "    solver_metasurface.display_metasurface(ER_t, params)\n",
    "    print(z_var)"
   ]
  },
  {
   "cell_type": "markdown",
   "id": "a9456c31",
   "metadata": {},
   "source": [
    "**Check Memory Utilization**"
   ]
  },
  {
   "cell_type": "code",
   "execution_count": null,
   "id": "2c94d19e",
   "metadata": {},
   "outputs": [],
   "source": [
    "gpu_memory_final = tf_utils.gpu_memory_info()\n",
    "gpu_memory_used = [gpu_memory_final[1][0] - gpu_memory_init[1][0], gpu_memory_final[1][1] - gpu_memory_init[1][1]]\n",
    "print('Memory used on each GPU(MiB): ' + str(gpu_memory_used))"
   ]
  }
 ],
 "metadata": {
  "kernelspec": {
   "display_name": "Python 3",
   "language": "python",
   "name": "python3"
  },
  "language_info": {
   "codemirror_mode": {
    "name": "ipython",
    "version": 3
   },
   "file_extension": ".py",
   "mimetype": "text/x-python",
   "name": "python",
   "nbconvert_exporter": "python",
   "pygments_lexer": "ipython3",
   "version": "3.6.8"
  }
 },
 "nbformat": 4,
 "nbformat_minor": 5
}
