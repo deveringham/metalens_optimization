{
 "cells": [
  {
   "cell_type": "markdown",
   "id": "9b2d3119",
   "metadata": {},
   "source": [
    "**Configure Devices**"
   ]
  },
  {
   "cell_type": "code",
   "execution_count": null,
   "id": "5844cbcf",
   "metadata": {},
   "outputs": [],
   "source": [
    "import sys\n",
    "import tensorflow as tf\n",
    "sys.path.append('./rcwa_tf/src/')\n",
    "import tf_utils"
   ]
  },
  {
   "cell_type": "code",
   "execution_count": null,
   "id": "fdaf8c60",
   "metadata": {},
   "outputs": [],
   "source": [
    "# Limit GPU memory growth\n",
    "tf_utils.config_gpu_memory_usage()\n",
    "\n",
    "# Choose the device to run on\n",
    "use_gpu = True\n",
    "tfDevice = '/job:localhost/replica:0/task:0/device:GPU:1' if use_gpu else '/CPU:0'\n",
    "print('Executing on device ' + tfDevice + ' ...')\n",
    "\n",
    "# Measure GPU memory usage\n",
    "gpu_memory_init = tf_utils.gpu_memory_info()"
   ]
  },
  {
   "cell_type": "markdown",
   "id": "577ba998",
   "metadata": {},
   "source": [
    "**Dependencies**"
   ]
  },
  {
   "cell_type": "code",
   "execution_count": null,
   "id": "0c67686c",
   "metadata": {},
   "outputs": [],
   "source": [
    "import numpy as np\n",
    "import matplotlib.pyplot as plt\n",
    "from matplotlib import colors\n",
    "import pdb\n",
    "import solver\n",
    "import solver_metasurface\n",
    "import rcwa_utils\n",
    "import tensor_utils"
   ]
  },
  {
   "cell_type": "markdown",
   "id": "e7ffffd9",
   "metadata": {},
   "source": [
    "**Loss Function Definition**"
   ]
  },
  {
   "cell_type": "code",
   "execution_count": null,
   "id": "6fce5b96",
   "metadata": {},
   "outputs": [],
   "source": [
    "def focal_spot(params):\n",
    "\n",
    "    # Generate permittivity and permeability distributions.\n",
    "    ER_t, UR_t = solver_metasurface.generate_copilot_metasurface_singlelayer(z_var, params)\n",
    "\n",
    "    # Simulate the system.\n",
    "    outputs = solver.simulate(ER_t, UR_t, params)\n",
    "\n",
    "    # First loss term: maximize sum of electric field magnitude within some radius of the desired focal point.\n",
    "    r = params['focal_spot_radius']\n",
    "    field = outputs['ty'][:, :, :, np.prod(params['PQ']) // 2, 0]\n",
    "    focal_plane = solver.propagate(params['input'] * field, params['propagator'], params['upsample'])\n",
    "    index = (params['pixelsX'] * params['upsample']) // 2\n",
    "    l1 = tf.math.reduce_sum(tf.abs(focal_plane[0, index-r:index+r, index-r:index+r]))\n",
    "\n",
    "    # Second loss term: minimize sum of electric field magnitude elsewhere.\n",
    "    l2 = tf.math.reduce_sum(tf.abs(focal_plane[0, :, :])) - l1\n",
    "\n",
    "    # First regularization term.\n",
    "    # Penalize values in z which are far from 1 or params['erd'].\n",
    "    r1 = tf.math.reduce_sum( \n",
    "        (z_var - 1) * (z_var - 1) * (z_var - params['erd']) * (z_var - params['erd']) ).numpy()\n",
    "\n",
    "    # Final loss: (negative) field intensity at focal point + regularization term.\n",
    "    return -params['w_l1']*l1 + params['w_l2']*l2 + params['w_r1']*r1"
   ]
  },
  {
   "cell_type": "markdown",
   "id": "68dc16ac",
   "metadata": {},
   "source": [
    "**Initialize Parameters**"
   ]
  },
  {
   "cell_type": "code",
   "execution_count": null,
   "id": "7aeded4b",
   "metadata": {},
   "outputs": [],
   "source": [
    "with tf.device(tfDevice):\n",
    "    \n",
    "    # Source parameters.\n",
    "    wavelengths = [120000.0]\n",
    "    thetas = [0.0]\n",
    "    phis = [0.0]\n",
    "    pte = [1.0]\n",
    "    ptm = [0.0]\n",
    "    \n",
    "    # Device parmeters.\n",
    "    pixelsX = 25\n",
    "    pixelsY = pixelsX\n",
    "    erd = 12.04\n",
    "    ers = erd\n",
    "    eps_min = 1.0\n",
    "    eps_max = erd\n",
    "    L = [50000.0, 50000.0]\n",
    "    Nlay = len(L)\n",
    "    Lx = 20000.0 * pixelsX\n",
    "    Ly = Lx\n",
    "    \n",
    "    # Solver parameters.\n",
    "    PQ = [5,5]\n",
    "    Nx = 16\n",
    "    Ny = Nx\n",
    "    upsample = 11\n",
    "    \n",
    "    # Problem parameters.\n",
    "    N = 100\n",
    "    w_l1 = 1.0\n",
    "    w_l2 = 0.0\n",
    "    w_r1 = 0.0\n",
    "    thresholding_enabled = True\n",
    "    sigmoid_coeff = 1.0\n",
    "    sigmoid_update = 20.0 / N\n",
    "    learning_rate = 1E-0\n",
    "    focal_spot_radius = 10\n",
    "    random_init = False\n",
    "    debug = False\n",
    "    \n",
    "    \n",
    "    # Initialize and populate dictionary of parameters.\n",
    "    params = solver.initialize_params(wavelengths=wavelengths, thetas=thetas, phis=phis,\n",
    "                                      pte=pte, ptm=ptm,\n",
    "                                      pixelsX=pixelsX, pixelsY=pixelsY,\n",
    "                                      erd=erd, ers=ers, PQ=PQ,\n",
    "                                      Lx=Lx, Ly=Ly,\n",
    "                                      L=L, Nx=Nx,\n",
    "                                      eps_min=eps_min, eps_max=eps_max)\n",
    "    \n",
    "    params['N'] = N\n",
    "    params['w_l1'] = w_l1\n",
    "    params['w_l2'] = w_l2\n",
    "    params['w_r1'] = w_r1\n",
    "    params['thresholding_enabled'] = thresholding_enabled\n",
    "    params['sigmoid_coeff'] = sigmoid_coeff\n",
    "    params['sigmoid_update'] = sigmoid_update\n",
    "    params['learning_rate'] = learning_rate\n",
    "    params['focal_spot_radius'] = focal_spot_radius\n",
    "    params['random_init'] = random_init\n",
    "    params['debug'] = debug\n",
    "\n",
    "    # Define the free-space propagator and input field distribution for the metasurface.\n",
    "    params['f'] = 1.0 * params['Lx'] * params['pixelsX']\n",
    "    params['upsample'] = upsample\n",
    "    params['propagator'] = solver.make_propagator(params, params['f'])\n",
    "    params['input'] = solver.define_input_fields(params)\n",
    "    \n",
    "    # Get initial permittivity and permeability profile for the metasurface.\n",
    "    z_initial = solver_metasurface.init_copilot_metasurface(params)\n",
    "    z_var = tf.Variable(z_initial, dtype=tf.float32)"
   ]
  },
  {
   "cell_type": "markdown",
   "id": "e0512263",
   "metadata": {},
   "source": [
    "**Optimize**"
   ]
  },
  {
   "cell_type": "code",
   "execution_count": null,
   "id": "96a1d7dd",
   "metadata": {},
   "outputs": [],
   "source": [
    "with tf.device(tfDevice):\n",
    "\n",
    "    # Define an optimizer and data to be stored.\n",
    "    opt = tf.keras.optimizers.Adam(learning_rate=params['learning_rate'])\n",
    "    loss = np.zeros(params['N'] + 1)\n",
    "\n",
    "    # Optimize.\n",
    "    print('\\nOptimizing... Iteration ', end=\"\")\n",
    "    \n",
    "    i = 0\n",
    "    #stopping_condition = 0.00001\n",
    "    while i < params['N']:\n",
    "        print(str(i) + ', ', end=\"\")\n",
    "        \n",
    "        # Original version, replaced with calls to tape.gradient() and opt.apply_gradients()\n",
    "        #opt.minimize(focal_spot, var_list = [z_var])\n",
    "        \n",
    "        # Calculate gradients.\n",
    "        with tf.GradientTape() as tape:\n",
    "            l = focal_spot(params)\n",
    "            grads = tape.gradient(l, [z_var])\n",
    "        \n",
    "        # Apply gradients to variables.\n",
    "        opt.apply_gradients(zip(grads, [z_var]))\n",
    "        \n",
    "        loss[i] = l.numpy()\n",
    "        \n",
    "        # Anneal sigmoid coefficient.\n",
    "        params['sigmoid_coeff'] += params['sigmoid_update']\n",
    "        \n",
    "        # Check convergence condition.\n",
    "        #if (i > 0) and (tf.math.abs((loss[i]/loss[i-1])-1) < stopping_condition):\n",
    "        #    break\n",
    "            \n",
    "        # Increment loop counter.\n",
    "        i += 1\n",
    "    \n",
    "    if (i == N): print('maximum iterations reached.')\n",
    "    else: print('stopping condition fulfilled.')\n",
    "        \n",
    "    # Final sigmoid pass.\n",
    "    if params['thresholding_enabled']:\n",
    "        z_var = tf.math.sigmoid(params['sigmoid_coeff'] * (z_var - (1 + (params['erd']-1)/2)) )\n",
    "        z_var = 1 + (params['erd'] - 1) * z_var\n",
    "    \n",
    "    # Final range clip.\n",
    "    z_var = tf.clip_by_value(z_var, clip_value_min = params['eps_min'], clip_value_max = params['eps_max'])\n",
    "    \n",
    "    # Get final loss.\n",
    "    loss[i] = focal_spot(params).numpy()\n",
    "    print('Final Loss: ' + str(loss[i]))"
   ]
  },
  {
   "cell_type": "markdown",
   "id": "1cc9bc4d",
   "metadata": {},
   "source": [
    "**Display Learning Curve**"
   ]
  },
  {
   "cell_type": "code",
   "execution_count": null,
   "id": "046aeb85",
   "metadata": {},
   "outputs": [],
   "source": [
    "with tf.device(tfDevice):\n",
    "    \n",
    "    plt.plot(loss[:i])\n",
    "    plt.xlabel('Iterations')\n",
    "    plt.ylabel('Loss')\n",
    "    plt.xlim(0, i-1)\n",
    "    plt.show()"
   ]
  },
  {
   "cell_type": "markdown",
   "id": "b03f9ac2",
   "metadata": {},
   "source": [
    "**Display Resulting Intensity on the Focal Plane**"
   ]
  },
  {
   "cell_type": "code",
   "execution_count": null,
   "id": "7cf33aa6",
   "metadata": {
    "scrolled": true
   },
   "outputs": [],
   "source": [
    "with tf.device(tfDevice):\n",
    "    \n",
    "    ER_t, UR_t = solver_metasurface.pixel_to_stacked(z_var, params)\n",
    "    outputs = solver.simulate(ER_t, UR_t, params)\n",
    "    field = outputs['ty'][:, :, :, np.prod(params['PQ']) // 2, 0]\n",
    "    focal_plane = solver.propagate(params['input'] * field, params['propagator'], params['upsample'])\n",
    "    plt.imshow(tf.abs(focal_plane[0, :, :]) ** 2)\n",
    "    plt.colorbar()"
   ]
  },
  {
   "cell_type": "markdown",
   "id": "0cee435e",
   "metadata": {},
   "source": [
    "***Display Resulting Metasurface***"
   ]
  },
  {
   "cell_type": "code",
   "execution_count": null,
   "id": "9baf0fc6",
   "metadata": {},
   "outputs": [],
   "source": [
    "with tf.device(tfDevice):\n",
    "    \n",
    "    solver_metasurface.display_metasurface(ER_t, params)"
   ]
  },
  {
   "cell_type": "markdown",
   "id": "7c36175e",
   "metadata": {},
   "source": [
    "***Check GPU Memory Utilization***"
   ]
  },
  {
   "cell_type": "code",
   "execution_count": null,
   "id": "2c94d19e",
   "metadata": {},
   "outputs": [],
   "source": [
    "gpu_memory_final = tf_utils.gpu_memory_info()\n",
    "gpu_memory_used = [gpu_memory_final[1][0] - gpu_memory_init[1][0], gpu_memory_final[1][1] - gpu_memory_init[1][1]]\n",
    "print('Memory used on each GPU(MiB): ' + str(gpu_memory_used))"
   ]
  }
 ],
 "metadata": {
  "kernelspec": {
   "display_name": "Python 3",
   "language": "python",
   "name": "python3"
  },
  "language_info": {
   "codemirror_mode": {
    "name": "ipython",
    "version": 3
   },
   "file_extension": ".py",
   "mimetype": "text/x-python",
   "name": "python",
   "nbconvert_exporter": "python",
   "pygments_lexer": "ipython3",
   "version": "3.6.8"
  }
 },
 "nbformat": 4,
 "nbformat_minor": 5
}
