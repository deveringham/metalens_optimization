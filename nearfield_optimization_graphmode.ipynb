{
 "cells": [
  {
   "cell_type": "markdown",
   "id": "0a0d39c1",
   "metadata": {},
   "source": [
    "**Configure Devices**"
   ]
  },
  {
   "cell_type": "code",
   "execution_count": 1,
   "id": "5844cbcf",
   "metadata": {},
   "outputs": [],
   "source": [
    "import sys\n",
    "import tensorflow as tf\n",
    "sys.path.append('./rcwa_tf/src/')\n",
    "import tf_utils"
   ]
  },
  {
   "cell_type": "code",
   "execution_count": 2,
   "id": "2c58e2a2",
   "metadata": {},
   "outputs": [
    {
     "name": "stdout",
     "output_type": "stream",
     "text": [
      " \n",
      "2 Physical GPUs\n",
      "Executing on device /job:localhost/replica:0/task:0/device:GPU:1 ...\n"
     ]
    }
   ],
   "source": [
    "# Limit GPU memory growth\n",
    "tf_utils.config_gpu_memory_usage()\n",
    "\n",
    "# Choose the device to run on\n",
    "use_gpu = True\n",
    "tfDevice = '/job:localhost/replica:0/task:0/device:GPU:1' if use_gpu else '/CPU:0'\n",
    "print('Executing on device ' + tfDevice + ' ...')\n",
    "\n",
    "# Measure GPU memory usage\n",
    "gpu_memory_init = tf_utils.gpu_memory_info()"
   ]
  },
  {
   "cell_type": "markdown",
   "id": "577ba998",
   "metadata": {},
   "source": [
    "**Dependencies**"
   ]
  },
  {
   "cell_type": "code",
   "execution_count": 3,
   "id": "0c67686c",
   "metadata": {},
   "outputs": [],
   "source": [
    "from tensorflow.keras import Model\n",
    "from tensorflow.keras.layers import Layer\n",
    "import numpy as np\n",
    "import matplotlib.pyplot as plt\n",
    "from matplotlib import colors\n",
    "import pdb\n",
    "import solver\n",
    "import solver_metasurface\n",
    "import rcwa_utils\n",
    "import tensor_utils"
   ]
  },
  {
   "cell_type": "markdown",
   "id": "4085dee3",
   "metadata": {},
   "source": [
    "**Definition of a Keras Layer with no Inputs** \\\n",
    "Used to hold height representation of the metasurface, which is treated as a trainable parameter."
   ]
  },
  {
   "cell_type": "code",
   "execution_count": 5,
   "id": "3525314d",
   "metadata": {},
   "outputs": [],
   "source": [
    "class NoInput(Layer):\n",
    "\n",
    "    def __init__(self, output_dim, **kwargs):\n",
    "        self.output_dim = output_dim\n",
    "        super(Simple, self).__init__(**kwargs)\n",
    "\n",
    "    def build(self, input_shapes):\n",
    "        self.kernel = self.add_weight(name='kernel', shape=self.output_dim, initializer='uniform', trainable=True)\n",
    "        super(Simple, self).build(input_shapes)  \n",
    "\n",
    "    def call(self, inputs):\n",
    "        return self.kernel\n",
    "\n",
    "    def compute_output_shape(self):\n",
    "        return self.output_dim"
   ]
  },
  {
   "cell_type": "markdown",
   "id": "a63cdde2",
   "metadata": {},
   "source": [
    "**Metasurface Optimization TensorFlow Model Definition**"
   ]
  },
  {
   "cell_type": "code",
   "execution_count": null,
   "id": "56f50b96",
   "metadata": {},
   "outputs": [],
   "source": [
    "class COPILOTMetasurfaceModel(Model):\n",
    "    def __init__(self, user_params):\n",
    "        super(MyModel, self).__init__()\n",
    "        \n",
    "        # Initialize and populate dictionary of solver parameters, based on the\n",
    "        # dictionary of user-provided parameters.\n",
    "        params = solver.initialize_params(wavelengths=user_params['wavelengths'],\n",
    "                                          thetas=user_params['thetas'],\n",
    "                                          phis=user_params['phis'],\n",
    "                                          pte=user_params['pte'],\n",
    "                                          ptm=user_params['ptm'],\n",
    "                                          pixelsX=user_params['pixelsX'],\n",
    "                                          pixelsY=user_params['pixelsY'],\n",
    "                                          erd=user_params['erd'],\n",
    "                                          ers=user_params['ers'],\n",
    "                                          PQ=user_params['PQ'],\n",
    "                                          Lx=user_params['Lx'],\n",
    "                                          Ly=user_params['Ly'],\n",
    "                                          L=user_params['L'],\n",
    "                                          Nx=user_params['Nx'],\n",
    "                                          eps_min=user_params['eps_min'],\n",
    "                                          eps_max=user_params['eps_max'])\n",
    "\n",
    "        # Merge with the user-provided parameter dictionary.\n",
    "        params['N'] = user_params['N']\n",
    "        params['w_l1'] = user_params['w_l1']\n",
    "        params['w_l2'] = user_params['w_l2']\n",
    "        params['thresholding_enabled'] = user_params['thresholding_enabled']\n",
    "        params['sigmoid_coeff'] = user_params['sigmoid_coeff']\n",
    "        params['sigmoid_update'] = user_params['sigmoid_update']\n",
    "        params['learning_rate'] = user_params['learning_rate']\n",
    "        params['focal_spot_radius'] = user_params['focal_spot_radius']\n",
    "        params['random_init'] = user_params['random_init']\n",
    "        params['debug'] = user_params['debug']\n",
    "\n",
    "        # Define the free-space propagator and input field distribution for the metasurface.\n",
    "        params['f'] = user_params['f'] * 1E-9\n",
    "        params['upsample'] = user_params['upsample']\n",
    "        params['propagator'] = solver.make_propagator(params, params['f'])\n",
    "        params['input'] = solver.define_input_fields(params)\n",
    "        \n",
    "        # Save the dictionary of parameters as a class member.\n",
    "        self.params = params\n",
    "        \n",
    "        # Simple layer (with no inputs) which holds lens parameters treated as trainable weights.\n",
    "        self.lens_layer = NoInput(params['pixelsX'] * params['pixelsY'])\n",
    "\n",
    "    def call(self, lam):\n",
    "        '''\n",
    "        Definition of the model's forward pass.\n",
    "        Converts the given height representation of the metasurface to a stacked representation,\n",
    "        which is then passed to the rcwa_tf solver. The resulting focal plane intensity pattern\n",
    "        is used to generate a loss value, which is returned.\n",
    "        Args:\n",
    "            h: A `tf.Tensor` of shape `(pixelsX, pixelsY)` and type float containing heights of each pixel.\n",
    "            \n",
    "            params: A `dict` containing simulation and optimization settings.\n",
    "            \n",
    "        Returns:\n",
    "            loss: Float loss value.\n",
    "        '''\n",
    "        \n",
    "        # Get current height representation of the metasurface.\n",
    "        h = self.lens_layer(None)\n",
    "        \n",
    "        # Reshape into a 2d height representation of the metasurface.\n",
    "        h = tf.reshape(h, [params['pixelsX'],params['pixelsY']])\n",
    "        \n",
    "        # Generate permittivity and permeability distributions.\n",
    "        ER_t, UR_t = solver_metasurface.generate_copilot_metasurface(h, params)\n",
    "\n",
    "        # Simulate the system.\n",
    "        outputs = solver.simulate(ER_t, UR_t, params)\n",
    "\n",
    "        # Propagate the resulting fields to the focal plane.\n",
    "        field = outputs['ty'][:, :, :, np.prod(params['PQ']) // 2, 0]\n",
    "        focal_plane = solver.propagate(params['input'] * field, params['propagator'], params['upsample'])\n",
    "        \n",
    "        return focal_plane"
   ]
  },
  {
   "cell_type": "markdown",
   "id": "1da99630",
   "metadata": {},
   "source": [
    "**Loss Function Definition**"
   ]
  },
  {
   "cell_type": "code",
   "execution_count": null,
   "id": "a5546777",
   "metadata": {},
   "outputs": [],
   "source": [
    "def focal_spot(h, params):\n",
    "\n",
    "    # Generate permittivity and permeability distributions.\n",
    "    ER_t, UR_t = solver_metasurface.generate_copilot_metasurface(h, params)\n",
    "\n",
    "    # Simulate the system.\n",
    "    outputs = solver.simulate(ER_t, UR_t, params)\n",
    "\n",
    "    # First loss term: maximize sum of electric field magnitude within some radius of the desired focal point.\n",
    "    r = params['focal_spot_radius']\n",
    "    field = outputs['ty'][:, :, :, np.prod(params['PQ']) // 2, 0]\n",
    "    focal_plane = solver.propagate(params['input'] * field, params['propagator'], params['upsample'])\n",
    "    index = (params['pixelsX'] * params['upsample']) // 2\n",
    "    l1 = tf.math.reduce_sum(tf.abs(focal_plane[0, index-r:index+r, index-r:index+r]))\n",
    "\n",
    "    # Second loss term: minimize sum of electric field magnitude elsewhere.\n",
    "    l2 = tf.math.reduce_sum(tf.abs(focal_plane[0, :, :])) - l1\n",
    "\n",
    "    # Final loss: (negative) field intensity at focal point + field intensity elsewhere.\n",
    "    return -params['w_l1']*l1 + params['w_l2']*l2"
   ]
  },
  {
   "cell_type": "markdown",
   "id": "ca6a8d17",
   "metadata": {},
   "source": [
    "**Optimize Device Function Definition**"
   ]
  },
  {
   "cell_type": "code",
   "execution_count": null,
   "id": "09086bc3",
   "metadata": {},
   "outputs": [],
   "source": [
    "def optimize_device(user_params):\n",
    "    \n",
    "    # Initialize and populate dictionary of solver parameters, based on the\n",
    "    # dictionary of user-provided parameters.\n",
    "    params = solver.initialize_params(wavelengths=user_params['wavelengths'],\n",
    "                                      thetas=user_params['thetas'],\n",
    "                                      phis=user_params['phis'],\n",
    "                                      pte=user_params['pte'],\n",
    "                                      ptm=user_params['ptm'],\n",
    "                                      pixelsX=user_params['pixelsX'],\n",
    "                                      pixelsY=user_params['pixelsY'],\n",
    "                                      erd=user_params['erd'],\n",
    "                                      ers=user_params['ers'],\n",
    "                                      PQ=user_params['PQ'],\n",
    "                                      Lx=user_params['Lx'],\n",
    "                                      Ly=user_params['Ly'],\n",
    "                                      L=user_params['L'],\n",
    "                                      Nx=user_params['Nx'],\n",
    "                                      eps_min=user_params['eps_min'],\n",
    "                                      eps_max=user_params['eps_max'])\n",
    "    \n",
    "    # Merge with the user-provided parameter dictionary.\n",
    "    params['N'] = user_params['N']\n",
    "    params['w_l1'] = user_params['w_l1']\n",
    "    params['w_l2'] = user_params['w_l2']\n",
    "    params['thresholding_enabled'] = user_params['thresholding_enabled']\n",
    "    params['sigmoid_coeff'] = user_params['sigmoid_coeff']\n",
    "    params['sigmoid_update'] = user_params['sigmoid_update']\n",
    "    params['learning_rate'] = user_params['learning_rate']\n",
    "    params['focal_spot_radius'] = user_params['focal_spot_radius']\n",
    "    params['random_init'] = user_params['random_init']\n",
    "    params['debug'] = user_params['debug']\n",
    "\n",
    "    # Define the free-space propagator and input field distribution for the metasurface.\n",
    "    params['f'] = user_params['f'] * 1E-9\n",
    "    params['upsample'] = user_params['upsample']\n",
    "    params['propagator'] = solver.make_propagator(params, params['f'])\n",
    "    params['input'] = solver.define_input_fields(params)\n",
    "    \n",
    "    # Get initial heights of the metasurface.\n",
    "    h_initial = np.zeros((params['pixelsX'],params['pixelsY']))\n",
    "    h = tf.Variable(h_initial, dtype=tf.float32)\n",
    "    \n",
    "    # Define an optimizer and data to be stored.\n",
    "    opt = tf.keras.optimizers.Adam(learning_rate=params['learning_rate'])\n",
    "    loss = np.zeros(params['N'] + 1)\n",
    "    \n",
    "    # Optimize.\n",
    "    print('Optimizing... Iteration ', end=\"\")\n",
    "    \n",
    "    i = 0\n",
    "    while i < params['N']:\n",
    "        print(str(i) + ', ', end=\"\")\n",
    "        \n",
    "        # Calculate gradients.\n",
    "        with tf.GradientTape() as tape:\n",
    "            l = focal_spot(h, params)\n",
    "            grads = tape.gradient(l, [h])\n",
    "        \n",
    "        # Modify gradients to adhere to problem constraints.\n",
    "        #constrained_grads = [constrain_gradients(g, device) for g in grads]\n",
    "        \n",
    "        # Apply gradients to variables.\n",
    "        opt.apply_gradients(zip(grads, [h]))\n",
    "        \n",
    "        loss[i] = l.numpy()\n",
    "        \n",
    "        # Anneal sigmoid coefficient.\n",
    "        if params['thresholding_enabled']:\n",
    "            params['sigmoid_coeff'] += params['sigmoid_update']\n",
    "            \n",
    "        # Increment loop counter.\n",
    "        i += 1\n",
    "    \n",
    "    print('Maximum iterations reached.')\n",
    "        \n",
    "    # Round off to a final, admissable, solution.\n",
    "    # Do a final range clip.\n",
    "    h = tf.clip_by_value(h, clip_value_min = 0, clip_value_max = params['Nlay']-1)\n",
    "    \n",
    "    # Round heights to nearest integer.\n",
    "    h = tf.math.round(h)\n",
    "    \n",
    "    # Get final loss.\n",
    "    loss[i] = focal_spot(h, params).numpy()\n",
    "    print('Final Loss: ' + str(loss[i]))\n",
    "    \n",
    "    return h, loss, params"
   ]
  },
  {
   "cell_type": "markdown",
   "id": "ac9fd648",
   "metadata": {},
   "source": [
    "**Initialize Parameters**"
   ]
  },
  {
   "cell_type": "code",
   "execution_count": null,
   "id": "7aeded4b",
   "metadata": {},
   "outputs": [],
   "source": [
    "with tf.device(tfDevice):\n",
    "    \n",
    "    # Initialize dict of user-configurable parameters.\n",
    "    user_params = {}\n",
    "    \n",
    "    # Source parameters.\n",
    "    user_params['wavelengths'] = [120000.0]\n",
    "    user_params['thetas'] = [0.0]\n",
    "    user_params['phis'] = [0.0]\n",
    "    user_params['pte'] = [1.0]\n",
    "    user_params['ptm'] = [0.0]\n",
    "    \n",
    "    # Device parmeters.\n",
    "    user_params['pixelsX'] = 15\n",
    "    user_params['pixelsY'] = user_params['pixelsX']\n",
    "    user_params['erd'] = 12.04\n",
    "    user_params['ers'] = user_params['erd']\n",
    "    user_params['eps_min'] = 1.0\n",
    "    user_params['eps_max'] = user_params['erd']\n",
    "    user_params['Nlay'] = 6\n",
    "    user_params['L'] = [50000.0] * user_params['Nlay']\n",
    "    user_params['Lx'] = 20000.0\n",
    "    user_params['Ly'] = user_params['Lx']\n",
    "    user_params['f'] = 1.0 # Focal distance (nm)\n",
    "    \n",
    "    # Solver parameters.\n",
    "    user_params['PQ'] = [5,5]\n",
    "    user_params['Nx'] = 16\n",
    "    user_params['Ny'] = user_params['Nx']\n",
    "    user_params['upsample'] = 11\n",
    "    \n",
    "    # Problem parameters.\n",
    "    user_params['N'] = 100\n",
    "    user_params['w_l1'] = 1.0\n",
    "    user_params['w_l2'] = 0.0\n",
    "    user_params['thresholding_enabled'] = True\n",
    "    user_params['sigmoid_coeff'] = 1.0\n",
    "    user_params['sigmoid_update'] = 40.0 / user_params['N']\n",
    "    user_params['learning_rate'] = 4E-1\n",
    "    user_params['focal_spot_radius'] = 10\n",
    "    user_params['random_init'] = False\n",
    "    user_params['debug'] = False"
   ]
  },
  {
   "cell_type": "markdown",
   "id": "6c5aa759",
   "metadata": {},
   "source": [
    "**Optimize**"
   ]
  },
  {
   "cell_type": "code",
   "execution_count": null,
   "id": "832b76fc",
   "metadata": {},
   "outputs": [],
   "source": [
    "with tf.device(tfDevice):\n",
    "    \n",
    "    h, loss, params = optimize_device(params)"
   ]
  },
  {
   "cell_type": "markdown",
   "id": "b296af59",
   "metadata": {},
   "source": [
    "**Display Learning Curve**"
   ]
  },
  {
   "cell_type": "code",
   "execution_count": null,
   "id": "e7d90c44",
   "metadata": {},
   "outputs": [],
   "source": [
    "with tf.device(tfDevice):\n",
    "    \n",
    "    plt.plot(loss)\n",
    "    plt.xlabel('Iterations')\n",
    "    plt.ylabel('Loss')\n",
    "    plt.show()"
   ]
  },
  {
   "cell_type": "markdown",
   "id": "672a7f4b",
   "metadata": {},
   "source": [
    "**Display Resulting Intensity on the Focal Plane**"
   ]
  },
  {
   "cell_type": "code",
   "execution_count": null,
   "id": "14bc2b19",
   "metadata": {},
   "outputs": [],
   "source": [
    "with tf.device(tfDevice):\n",
    "    \n",
    "    ER_t, UR_t = solver_metasurface.generate_copilot_metasurface(h, params)\n",
    "    outputs = solver.simulate(ER_t, UR_t, params)\n",
    "    field = outputs['ty'][:, :, :, np.prod(params['PQ']) // 2, 0]\n",
    "    focal_plane = solver.propagate(params['input'] * field, params['propagator'], params['upsample'])\n",
    "    plt.imshow(tf.abs(focal_plane[0, :, :]) ** 2)\n",
    "    plt.colorbar()"
   ]
  },
  {
   "cell_type": "markdown",
   "id": "a85e144f",
   "metadata": {},
   "source": [
    "**Display Metasurface**"
   ]
  },
  {
   "cell_type": "code",
   "execution_count": null,
   "id": "4c713df8",
   "metadata": {},
   "outputs": [],
   "source": [
    "with tf.device(tfDevice):\n",
    "    \n",
    "    solver_metasurface.display_metasurface(ER_t, params)\n",
    "    print(h)"
   ]
  },
  {
   "cell_type": "markdown",
   "id": "389b9a7c",
   "metadata": {},
   "source": [
    "**Evaluate Metasurface**"
   ]
  },
  {
   "cell_type": "code",
   "execution_count": null,
   "id": "aca1b3d4",
   "metadata": {},
   "outputs": [],
   "source": [
    "with tf.device(tfDevice):\n",
    "    \n",
    "    eval = solver_metasurface.evaluate_solution(focal_plane, params)\n",
    "    print('Evaluation Score of the Metasurface: ' + str(eval))"
   ]
  },
  {
   "cell_type": "markdown",
   "id": "43f90c58",
   "metadata": {},
   "source": [
    "**Check GPU Memory Utilization**"
   ]
  },
  {
   "cell_type": "code",
   "execution_count": null,
   "id": "2c94d19e",
   "metadata": {},
   "outputs": [],
   "source": [
    "gpu_memory_final = tf_utils.gpu_memory_info()\n",
    "gpu_memory_used = [gpu_memory_final[1][0] - gpu_memory_init[1][0], gpu_memory_final[1][1] - gpu_memory_init[1][1]]\n",
    "print('Memory used on each GPU(MiB): ' + str(gpu_memory_used))"
   ]
  }
 ],
 "metadata": {
  "kernelspec": {
   "display_name": "Python 3",
   "language": "python",
   "name": "python3"
  },
  "language_info": {
   "codemirror_mode": {
    "name": "ipython",
    "version": 3
   },
   "file_extension": ".py",
   "mimetype": "text/x-python",
   "name": "python",
   "nbconvert_exporter": "python",
   "pygments_lexer": "ipython3",
   "version": "3.6.8"
  }
 },
 "nbformat": 4,
 "nbformat_minor": 5
}
