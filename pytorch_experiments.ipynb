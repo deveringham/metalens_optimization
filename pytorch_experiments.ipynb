{
 "cells": [
  {
   "cell_type": "code",
   "execution_count": 2,
   "id": "3ccb568e",
   "metadata": {},
   "outputs": [
    {
     "name": "stdout",
     "output_type": "stream",
     "text": [
      "1.10.1+cu113\n"
     ]
    }
   ],
   "source": [
    "import sys\n",
    "\n",
    "import torch\n",
    "import numpy as np\n",
    "import matplotlib.pyplot as plt\n",
    "\n",
    "sys.path.append('./src/')\n",
    "#sys.path.append('./rcwa_tf/src/')\n",
    "sys.path.append('./rcwa_pt/src/')\n",
    "import utils\n",
    "print(torch.__version__)"
   ]
  },
  {
   "cell_type": "code",
   "execution_count": 3,
   "id": "16e7c71d",
   "metadata": {},
   "outputs": [
    {
     "name": "stdout",
     "output_type": "stream",
     "text": [
      "[PhysicalDevice(name='/physical_device:GPU:0', device_type='GPU'), PhysicalDevice(name='/physical_device:GPU:1', device_type='GPU')]\n"
     ]
    }
   ],
   "source": [
    "# Limit GPU memory growth.\n",
    "gpus = list_physical_devices(\"GPU\")\n",
    "print(gpus)\n",
    "for gpu in gpus:\n",
    "    set_memory_growth(gpu, True)\n",
    "\n",
    "#ptDevice = torch.device('cuda:1')\n",
    "#torch.cuda.set_per_process_memory_fraction(0.9, device=ptDevice)\n",
    "\n",
    "# Choose the device to run on.\n",
    "#use_gpu = True\n",
    "##### REMEMBER: CHANGE BACK TO GPU:1\n",
    "#tfDevice = '/job:localhost/replica:0/task:0/device:GPU:1' if use_gpu else '/CPU:0'\n",
    "#print('Executing on device ' + tfDevice + ' ...')\n",
    "\n",
    "# Measure GPU memory usage.\n",
    "gpu_memory_init = tf_utils.gpu_memory_info()"
   ]
  },
  {
   "cell_type": "code",
   "execution_count": 4,
   "id": "29c27155",
   "metadata": {},
   "outputs": [],
   "source": [
    "torch.set_default_tensor_type('torch.cuda.FloatTensor')\n",
    "#ptDevice = torch.device('cuda:1')"
   ]
  },
  {
   "cell_type": "code",
   "execution_count": 5,
   "id": "c6961cd0",
   "metadata": {},
   "outputs": [],
   "source": [
    "cpu_memory_total, cpu_memory_used_init = tf_utils.cpu_memory_info()\n",
    "gpu_memory_init = tf_utils.gpu_memory_info()"
   ]
  },
  {
   "cell_type": "code",
   "execution_count": 6,
   "id": "2ca091f5",
   "metadata": {},
   "outputs": [],
   "source": [
    "#import solver\n",
    "#import solver_metasurface\n",
    "import solver_pt\n",
    "import solver_metasurface_pt"
   ]
  },
  {
   "cell_type": "code",
   "execution_count": 7,
   "id": "cb0c1f83",
   "metadata": {},
   "outputs": [],
   "source": [
    "# Initialize parameters.\n",
    "user_params = {}\n",
    "\n",
    "# Flage to enable hyperparameter grid search.\n",
    "user_params['enable_hyperparameter_gridsearch'] = False\n",
    "\n",
    "# Tunable parameters.\n",
    "user_params['N'] = 50\n",
    "user_params['sigmoid_update'] = 20.0\n",
    "user_params['learning_rate'] = 6E-1\n",
    "user_params['initial_height'] = 3\n",
    "\n",
    "user_params['parameter_string'] = 'N' + str(user_params['N']) \\\n",
    "    + '-sigmoid_update' + str(user_params['sigmoid_update']) \\\n",
    "    + '-learning_rate' + str(user_params['learning_rate']) \\\n",
    "    + '-initial_height' + str(user_params['initial_height'])\n",
    "\n",
    "# Values to use in hyperparameter grid search.\n",
    "# Stored as a dict. Each dict key is the key in user_params corresponding to a tunable\n",
    "# hyperparameter, i.e. 'N' and its value is a list of values to try for that hyperparameter.\n",
    "param_grid = {'N': [10],\n",
    "              'sigmoid_update': [10.0, 20.0],\n",
    "              'learning_rate': [2E-1],\n",
    "              'initial_height': [0]}\n",
    "user_params['param_grid'] = param_grid\n",
    "\n",
    "\n",
    "# Source parameters.\n",
    "user_params['wavelengths'] = [120000.0]\n",
    "user_params['thetas'] = [0.0]\n",
    "user_params['phis'] = [0.0]\n",
    "user_params['pte'] = [1.0]\n",
    "user_params['ptm'] = [0.0]\n",
    "\n",
    "# Device parmeters.\n",
    "user_params['pixelsX'] = 200\n",
    "user_params['pixelsY'] = user_params['pixelsX']\n",
    "user_params['erd'] = 12.04\n",
    "user_params['ers'] = user_params['erd']\n",
    "user_params['L'] = [50000.0, 50000.0, 50000.0, 50000.0, 50000.0, 950000.0]\n",
    "user_params['Lx'] = 20000.0\n",
    "#user_params['Lx'] = 5000000. / user_params['pixelsX']\n",
    "user_params['Ly'] = user_params['Lx']\n",
    "user_params['f'] = 0.0 # Focal distance (nm)\n",
    "#user_params['pt_device'] = ptDevice\n",
    "\n",
    "# Solver parameters.\n",
    "user_params['PQ'] = [3,3]\n",
    "user_params['upsample'] = 7\n",
    "\n",
    "# Problem parameters.\n",
    "user_params['w_l1'] = 1.0\n",
    "user_params['sigmoid_coeff'] = 1.0\n",
    "user_params['focal_spot_radius'] = 10\n",
    "user_params['enable_random_init'] = False\n",
    "user_params['enable_debug'] = False\n",
    "user_params['enable_print'] = True\n",
    "user_params['enable_timing'] = True\n",
    "\n",
    "# Logging parameters.\n",
    "user_params['enable_logging'] = True\n",
    "user_params['log_filename_prefix'] = 'nearfield-' + str(user_params['pixelsX']) + 'x' + str(user_params['pixelsY']) + '-'\n",
    "user_params['log_filename_extension'] = '.log'\n",
    "user_params['load_result'] = False\n",
    "user_params['load_filename'] = user_params['log_filename_prefix'] + user_params['parameter_string'] + user_params['log_filename_extension']"
   ]
  },
  {
   "cell_type": "code",
   "execution_count": 8,
   "id": "799ec3f9",
   "metadata": {},
   "outputs": [],
   "source": [
    "def loss_function_pt(h, params):\n",
    "    \n",
    "    # Generate permittivity and permeability distributions.\n",
    "    ER_t, UR_t = solver_metasurface_pt.generate_layered_metasurface(h, params)\n",
    "\n",
    "    # Simulate the system.\n",
    "    outputs = solver_pt.simulate_allsteps(ER_t, UR_t, params)\n",
    "    \n",
    "    # First loss term: maximize sum of electric field magnitude within some radius of the desired focal point.\n",
    "    r = params['focal_spot_radius']\n",
    "    field = outputs['ty'][:, :, :, np.prod(params['PQ']) // 2, 0]\n",
    "    focal_plane = solver_pt.propagate(params['input'] * field, params['propagator'], params['upsample'])\n",
    "    index = (params['pixelsX'] * params['upsample']) // 2\n",
    "    l1 = torch.sum(torch.abs(focal_plane[0, index-r:index+r, index-r:index+r]))\n",
    "\n",
    "    # Final loss: (negative) field intensity at focal point + field intensity elsewhere.\n",
    "    return -params['w_l1']*l1"
   ]
  },
  {
   "cell_type": "code",
   "execution_count": 9,
   "id": "02b2b402",
   "metadata": {},
   "outputs": [
    {
     "name": "stderr",
     "output_type": "stream",
     "text": [
      "/home/deveringham/.local/lib/python3.6/site-packages/torch/functional.py:445: UserWarning: torch.meshgrid: in an upcoming release, it will be required to pass the indexing argument. (Triggered internally at  ../aten/src/ATen/native/TensorShape.cpp:2157.)\n",
      "  return _VF.meshgrid(tensors, **kwargs)  # type: ignore[attr-defined]\n"
     ]
    },
    {
     "name": "stdout",
     "output_type": "stream",
     "text": [
      "0, "
     ]
    },
    {
     "ename": "RuntimeError",
     "evalue": "CUDA out of memory. Tried to allocate 11.59 GiB (GPU 0; 47.54 GiB total capacity; 32.45 GiB already allocated; 10.63 GiB free; 34.75 GiB reserved in total by PyTorch) If reserved memory is >> allocated memory try setting max_split_size_mb to avoid fragmentation.  See documentation for Memory Management and PYTORCH_CUDA_ALLOC_CONF",
     "output_type": "error",
     "traceback": [
      "\u001b[0;31m---------------------------------------------------------------------------\u001b[0m",
      "\u001b[0;31mRuntimeError\u001b[0m                              Traceback (most recent call last)",
      "\u001b[0;32m<ipython-input-9-bfb2d5d5a992>\u001b[0m in \u001b[0;36m<module>\u001b[0;34m\u001b[0m\n\u001b[1;32m      3\u001b[0m \u001b[0;34m\u001b[0m\u001b[0m\n\u001b[1;32m      4\u001b[0m \u001b[0;31m# Optimize.\u001b[0m\u001b[0;34m\u001b[0m\u001b[0;34m\u001b[0m\u001b[0;34m\u001b[0m\u001b[0m\n\u001b[0;32m----> 5\u001b[0;31m \u001b[0mh_pt\u001b[0m\u001b[0;34m,\u001b[0m \u001b[0mloss_pt\u001b[0m\u001b[0;34m,\u001b[0m \u001b[0mparams_pt\u001b[0m \u001b[0;34m=\u001b[0m \u001b[0msolver_metasurface_pt\u001b[0m\u001b[0;34m.\u001b[0m\u001b[0moptimize_device\u001b[0m\u001b[0;34m(\u001b[0m\u001b[0muser_params\u001b[0m\u001b[0;34m)\u001b[0m\u001b[0;34m\u001b[0m\u001b[0;34m\u001b[0m\u001b[0m\n\u001b[0m\u001b[1;32m      6\u001b[0m \u001b[0;34m\u001b[0m\u001b[0m\n\u001b[1;32m      7\u001b[0m \u001b[0;31m# Get full device representation of resulting metasurface.\u001b[0m\u001b[0;34m\u001b[0m\u001b[0;34m\u001b[0m\u001b[0;34m\u001b[0m\u001b[0m\n",
      "\u001b[0;32m~/thesis/src/solver_metasurface_pt.py\u001b[0m in \u001b[0;36moptimize_device\u001b[0;34m(user_params)\u001b[0m\n\u001b[1;32m    331\u001b[0m         \u001b[0mopt\u001b[0m\u001b[0;34m.\u001b[0m\u001b[0mzero_grad\u001b[0m\u001b[0;34m(\u001b[0m\u001b[0;34m)\u001b[0m\u001b[0;34m\u001b[0m\u001b[0;34m\u001b[0m\u001b[0m\n\u001b[1;32m    332\u001b[0m         \u001b[0ml\u001b[0m \u001b[0;34m=\u001b[0m \u001b[0mparams\u001b[0m\u001b[0;34m[\u001b[0m\u001b[0;34m'loss_function'\u001b[0m\u001b[0;34m]\u001b[0m\u001b[0;34m(\u001b[0m\u001b[0mh\u001b[0m\u001b[0;34m,\u001b[0m \u001b[0mparams\u001b[0m\u001b[0;34m)\u001b[0m\u001b[0;34m\u001b[0m\u001b[0;34m\u001b[0m\u001b[0m\n\u001b[0;32m--> 333\u001b[0;31m         \u001b[0ml\u001b[0m\u001b[0;34m.\u001b[0m\u001b[0mbackward\u001b[0m\u001b[0;34m(\u001b[0m\u001b[0;34m)\u001b[0m\u001b[0;34m\u001b[0m\u001b[0;34m\u001b[0m\u001b[0m\n\u001b[0m\u001b[1;32m    334\u001b[0m         \u001b[0mopt\u001b[0m\u001b[0;34m.\u001b[0m\u001b[0mstep\u001b[0m\u001b[0;34m(\u001b[0m\u001b[0;34m)\u001b[0m\u001b[0;34m\u001b[0m\u001b[0;34m\u001b[0m\u001b[0m\n\u001b[1;32m    335\u001b[0m         \u001b[0mloss\u001b[0m\u001b[0;34m[\u001b[0m\u001b[0mi\u001b[0m\u001b[0;34m]\u001b[0m \u001b[0;34m=\u001b[0m \u001b[0ml\u001b[0m\u001b[0;34m\u001b[0m\u001b[0;34m\u001b[0m\u001b[0m\n",
      "\u001b[0;32m~/.local/lib/python3.6/site-packages/torch/_tensor.py\u001b[0m in \u001b[0;36mbackward\u001b[0;34m(self, gradient, retain_graph, create_graph, inputs)\u001b[0m\n\u001b[1;32m    305\u001b[0m                 \u001b[0mcreate_graph\u001b[0m\u001b[0;34m=\u001b[0m\u001b[0mcreate_graph\u001b[0m\u001b[0;34m,\u001b[0m\u001b[0;34m\u001b[0m\u001b[0;34m\u001b[0m\u001b[0m\n\u001b[1;32m    306\u001b[0m                 inputs=inputs)\n\u001b[0;32m--> 307\u001b[0;31m         \u001b[0mtorch\u001b[0m\u001b[0;34m.\u001b[0m\u001b[0mautograd\u001b[0m\u001b[0;34m.\u001b[0m\u001b[0mbackward\u001b[0m\u001b[0;34m(\u001b[0m\u001b[0mself\u001b[0m\u001b[0;34m,\u001b[0m \u001b[0mgradient\u001b[0m\u001b[0;34m,\u001b[0m \u001b[0mretain_graph\u001b[0m\u001b[0;34m,\u001b[0m \u001b[0mcreate_graph\u001b[0m\u001b[0;34m,\u001b[0m \u001b[0minputs\u001b[0m\u001b[0;34m=\u001b[0m\u001b[0minputs\u001b[0m\u001b[0;34m)\u001b[0m\u001b[0;34m\u001b[0m\u001b[0;34m\u001b[0m\u001b[0m\n\u001b[0m\u001b[1;32m    308\u001b[0m \u001b[0;34m\u001b[0m\u001b[0m\n\u001b[1;32m    309\u001b[0m     \u001b[0;32mdef\u001b[0m \u001b[0mregister_hook\u001b[0m\u001b[0;34m(\u001b[0m\u001b[0mself\u001b[0m\u001b[0;34m,\u001b[0m \u001b[0mhook\u001b[0m\u001b[0;34m)\u001b[0m\u001b[0;34m:\u001b[0m\u001b[0;34m\u001b[0m\u001b[0;34m\u001b[0m\u001b[0m\n",
      "\u001b[0;32m~/.local/lib/python3.6/site-packages/torch/autograd/__init__.py\u001b[0m in \u001b[0;36mbackward\u001b[0;34m(tensors, grad_tensors, retain_graph, create_graph, grad_variables, inputs)\u001b[0m\n\u001b[1;32m    154\u001b[0m     Variable._execution_engine.run_backward(\n\u001b[1;32m    155\u001b[0m         \u001b[0mtensors\u001b[0m\u001b[0;34m,\u001b[0m \u001b[0mgrad_tensors_\u001b[0m\u001b[0;34m,\u001b[0m \u001b[0mretain_graph\u001b[0m\u001b[0;34m,\u001b[0m \u001b[0mcreate_graph\u001b[0m\u001b[0;34m,\u001b[0m \u001b[0minputs\u001b[0m\u001b[0;34m,\u001b[0m\u001b[0;34m\u001b[0m\u001b[0;34m\u001b[0m\u001b[0m\n\u001b[0;32m--> 156\u001b[0;31m         allow_unreachable=True, accumulate_grad=True)  # allow_unreachable flag\n\u001b[0m\u001b[1;32m    157\u001b[0m \u001b[0;34m\u001b[0m\u001b[0m\n\u001b[1;32m    158\u001b[0m \u001b[0;34m\u001b[0m\u001b[0m\n",
      "\u001b[0;31mRuntimeError\u001b[0m: CUDA out of memory. Tried to allocate 11.59 GiB (GPU 0; 47.54 GiB total capacity; 32.45 GiB already allocated; 10.63 GiB free; 34.75 GiB reserved in total by PyTorch) If reserved memory is >> allocated memory try setting max_split_size_mb to avoid fragmentation.  See documentation for Memory Management and PYTORCH_CUDA_ALLOC_CONF"
     ]
    }
   ],
   "source": [
    "# Set loss function.\n",
    "user_params['loss_function'] = loss_function_pt\n",
    "\n",
    "# Optimize.\n",
    "h_pt, loss_pt, params_pt = solver_metasurface_pt.optimize_device(user_params)\n",
    "\n",
    "# Get full device representation of resulting metasurface.\n",
    "ER_t_pt, UR_t_pt = solver_metasurface_pt.generate_layered_metasurface(h_pt, params_pt)\n",
    "\n",
    "# Simulate scattering from the optimized device.\n",
    "outputs_pt = solver_pt.simulate_allsteps(ER_t_pt, UR_t_pt, params_pt)\n",
    "field_pt = outputs_pt['ty'][:, :, :, np.prod(params_pt['PQ']) // 2, 0]\n",
    "focal_plane_pt = solver_pt.propagate(params_pt['input'] * field_pt, params_pt['propagator'], params_pt['upsample'])"
   ]
  },
  {
   "cell_type": "code",
   "execution_count": null,
   "id": "4852c52f",
   "metadata": {},
   "outputs": [],
   "source": [
    "intensity = torch.abs(focal_plane_pt[0, :, :]) ** 2\n",
    "intensity = intensity.detach().cpu().numpy()\n",
    "plt.imshow(intensity)\n",
    "plt.colorbar()"
   ]
  },
  {
   "cell_type": "code",
   "execution_count": null,
   "id": "9c95bd8f",
   "metadata": {},
   "outputs": [],
   "source": [
    "plt.plot(loss_pt)\n",
    "plt.xlabel('Iterations')\n",
    "plt.ylabel('Loss')\n",
    "plt.show()"
   ]
  },
  {
   "cell_type": "code",
   "execution_count": null,
   "id": "14ab4c6b",
   "metadata": {},
   "outputs": [],
   "source": [
    "ER_t_pt, UR_t_pt = solver_metasurface_pt.generate_layered_metasurface(h_pt, params_pt)\n",
    "solver_metasurface_pt.display_layered_metasurface(ER_t_pt, params_pt)"
   ]
  },
  {
   "cell_type": "code",
   "execution_count": null,
   "id": "10fcf9f7",
   "metadata": {},
   "outputs": [],
   "source": [
    "gpu_memory_final = tf_utils.gpu_memory_info()\n",
    "gpu_memory_used = [gpu_memory_final[1][0] - gpu_memory_init[1][0], gpu_memory_final[1][1] - gpu_memory_init[1][1]]\n",
    "print('Memory used on each GPU(MiB): ' + str(gpu_memory_used))\n",
    "\n",
    "_, cpu_memory_used_final = tf_utils.cpu_memory_info()\n",
    "print('Memory used on the CPU(MB): ' + str(cpu_memory_used_final - cpu_memory_used_final))"
   ]
  },
  {
   "cell_type": "code",
   "execution_count": null,
   "id": "05c7aaa9",
   "metadata": {},
   "outputs": [],
   "source": [
    "import json\n",
    "\n",
    "with open(\"180x180_h_pt.txt\", 'w', encoding=\"utf-8\") as f:\n",
    "        \n",
    "    json.dump(h_pt.detach().cpu().numpy().tolist(), f)"
   ]
  },
  {
   "cell_type": "code",
   "execution_count": null,
   "id": "e6bcbd5c",
   "metadata": {},
   "outputs": [],
   "source": []
  }
 ],
 "metadata": {
  "kernelspec": {
   "display_name": "Python 3",
   "language": "python",
   "name": "python3"
  },
  "language_info": {
   "codemirror_mode": {
    "name": "ipython",
    "version": 3
   },
   "file_extension": ".py",
   "mimetype": "text/x-python",
   "name": "python",
   "nbconvert_exporter": "python",
   "pygments_lexer": "ipython3",
   "version": "3.6.8"
  }
 },
 "nbformat": 4,
 "nbformat_minor": 5
}
