{
 "cells": [
  {
   "cell_type": "markdown",
   "metadata": {
    "id": "liutV-O4UzMM"
   },
   "source": [
    "**Imports**"
   ]
  },
  {
   "cell_type": "code",
   "execution_count": 1,
   "metadata": {
    "id": "QOCg73BSUzSx"
   },
   "outputs": [],
   "source": [
    "import tensorflow as tf\n",
    "import numpy as np\n",
    "import matplotlib.pyplot as plt\n",
    "import sys\n",
    "\n",
    "sys.path.insert(1, '/home/deveringham/thesis/rcwa_tf/src/')\n",
    "import rcwa_utils\n",
    "import tensor_utils\n",
    "import solver"
   ]
  },
  {
   "cell_type": "markdown",
   "metadata": {
    "id": "E3JWQHQ4UzaV"
   },
   "source": [
    "**Loss Function Definition**"
   ]
  },
  {
   "cell_type": "code",
   "execution_count": 2,
   "metadata": {
    "id": "ZWkgQTE9Uzgx"
   },
   "outputs": [],
   "source": [
    "def focal_spot():\n",
    "\n",
    "  # Global parameters dictionary.\n",
    "  global params\n",
    "\n",
    "  # Generate permittivity and permeability distributions.\n",
    "  ER_t, UR_t = solver.generate_coupled_cylindrical_resonators(r_x_var, r_y_var, params)\n",
    "\n",
    "  # Simulate the system.\n",
    "  outputs = solver.simulate(ER_t, UR_t, params)\n",
    "  field = outputs['ty'][:, :, :, np.prod(params['PQ']) // 2, 0]\n",
    "  focal_plane = solver.propagate(params['input'] * field, params['propagator'], params['upsample'])\n",
    "  index = (params['pixelsX'] * params['upsample']) // 2\n",
    "  f1 = tf.abs(focal_plane[0, index, index])\n",
    "\n",
    "  # Maximize the electric field magnitude at the desired focal spot.\n",
    "  return -f1"
   ]
  },
  {
   "cell_type": "markdown",
   "metadata": {
    "id": "IcYSGM85Uzou"
   },
   "source": [
    "**Setup and Initialize Variables**"
   ]
  },
  {
   "cell_type": "code",
   "execution_count": 3,
   "metadata": {
    "id": "ha4It8BUUzvG"
   },
   "outputs": [],
   "source": [
    "# Initialize global params dictionary.\n",
    "params = solver.initialize_params(wavelengths = [632.0],\n",
    "                      thetas = [0.0],\n",
    "                      phis = [0.0],\n",
    "                      pte = [1.0],\n",
    "                      ptm = [0.0],\n",
    "                      pixelsX = 31,\n",
    "                      pixelsY = 31)\n",
    "params['erd'] = 6.76 # Grating layer permittivity.\n",
    "params['ers'] = 2.25 # Subtrate layer permittivity.\n",
    "params['PQ'] = [5, 5] # Fourier Harmonics.\n",
    "params['Nx'] = 128\n",
    "params['Ny'] = params['Nx']\n",
    "params['upsample'] = 11\n",
    "params['f'] = 1.0 * params['Lx'] * params['pixelsX']\n",
    "\n",
    "# Define the free-space propagator and input field distribution for the metasurface.\n",
    "params['propagator'] = solver.make_propagator(params, params['f'])\n",
    "params['input'] = solver.define_input_fields(params)\n",
    "\n",
    "# Define duty cycles for unit cells based on 4 coupled elliptical nanoposts.\n",
    "var_shape = (1, params['pixelsX'], params['pixelsY'], 4)\n",
    "r_x_initial = 0.175 * np.ones(shape = var_shape)\n",
    "r_y_initial = r_x_initial\n",
    "r_x_var = tf.Variable(r_x_initial, dtype = tf.float32)\n",
    "r_y_var = tf.Variable(r_y_initial, dtype = tf.float32)"
   ]
  },
  {
   "cell_type": "markdown",
   "metadata": {
    "id": "FtwT36NEUz1a"
   },
   "source": [
    "**Optimize**"
   ]
  },
  {
   "cell_type": "code",
   "execution_count": null,
   "metadata": {
    "colab": {
     "base_uri": "https://localhost:8080/"
    },
    "id": "24klN1XRUz7s",
    "outputId": "212658f6-0c8a-4da0-f04b-d447204cdfb4"
   },
   "outputs": [
    {
     "name": "stdout",
     "output_type": "stream",
     "text": [
      "Loss: -1.005650520324707\n",
      "\n",
      "Optimizing...\n",
      "Iteration 0\n",
      "Loss: -1.0122785568237305\n",
      "Iteration 1\n",
      "Loss: -1.0458399057388306\n",
      "Iteration 2\n",
      "Loss: -1.1301920413970947\n",
      "Iteration 3\n",
      "Loss: -1.228545069694519\n",
      "Iteration 4\n",
      "Loss: -1.3118735551834106\n",
      "Iteration 5\n",
      "Loss: -1.3770451545715332\n",
      "Iteration 6\n",
      "Loss: -1.4479831457138062\n",
      "Iteration 7\n",
      "Loss: -1.5153852701187134\n",
      "Iteration 8\n",
      "Loss: -1.6087987422943115\n",
      "Iteration 9\n",
      "Loss: -1.7865630388259888\n"
     ]
    }
   ],
   "source": [
    "# Number of optimization iterations.\n",
    "N = 500\n",
    "\n",
    "# Define an optimizer and data to be stored.\n",
    "opt = tf.keras.optimizers.Adam(learning_rate = 2E-4)\n",
    "loss = np.zeros(N + 1)\n",
    "\n",
    "# Compute initial loss and duty cycle.\n",
    "loss[0] = focal_spot().numpy()\n",
    "print('Loss: ' + str(loss[0]))\n",
    "print('\\nOptimizing...')\n",
    "\n",
    "# Optimize.\n",
    "for i in range(N):\n",
    "  opt.minimize(focal_spot, var_list = [r_x_var, r_y_var])\n",
    "  loss[i + 1] = focal_spot().numpy()\n",
    "  print('Iteration ' + str(i))\n",
    "  print('Loss: ' + str(loss[i+1]))"
   ]
  },
  {
   "cell_type": "markdown",
   "metadata": {
    "id": "hX6jzUfcU0CY"
   },
   "source": [
    "**Display Learning Curve**"
   ]
  },
  {
   "cell_type": "code",
   "execution_count": null,
   "metadata": {
    "colab": {
     "base_uri": "https://localhost:8080/",
     "height": 278
    },
    "id": "8Sz1QpoxU0Je",
    "outputId": "ea785734-74ce-47f9-fed5-c346eb3bf546"
   },
   "outputs": [],
   "source": [
    "plt.plot(loss)\n",
    "plt.xlabel('Iterations')\n",
    "plt.ylabel('Loss')\n",
    "plt.xlim(0, N)\n",
    "plt.show()"
   ]
  },
  {
   "cell_type": "markdown",
   "metadata": {
    "id": "Sqkosi67VvNc"
   },
   "source": [
    "**Calculate the Focal Plane Intensity of the Optimized Structure**"
   ]
  },
  {
   "cell_type": "code",
   "execution_count": null,
   "metadata": {
    "colab": {
     "base_uri": "https://localhost:8080/",
     "height": 286
    },
    "id": "HhBoAefiVvVe",
    "outputId": "417a8ea5-fcf4-42d3-8ddf-b05465345826"
   },
   "outputs": [],
   "source": [
    "ER_t, UR_t = solver.generate_coupled_cylindrical_resonators(r_x_var, r_y_var, params)\n",
    "outputs = solver.simulate(ER_t, UR_t, params)\n",
    "field = outputs['ty'][:, :, :, np.prod(params['PQ']) // 2, 0]\n",
    "focal_plane = solver.propagate(params['input'] * field, params['propagator'], params['upsample'])\n",
    "plt.imshow(tf.abs(focal_plane[0, :, :]) ** 2)\n",
    "plt.colorbar()"
   ]
  },
  {
   "cell_type": "code",
   "execution_count": null,
   "metadata": {
    "id": "v9stKGmQWVR4"
   },
   "outputs": [],
   "source": []
  }
 ],
 "metadata": {
  "accelerator": "GPU",
  "colab": {
   "collapsed_sections": [],
   "name": "monochromatic_metalens_example.ipynb",
   "provenance": []
  },
  "kernelspec": {
   "display_name": "Python 3",
   "language": "python",
   "name": "python3"
  },
  "language_info": {
   "codemirror_mode": {
    "name": "ipython",
    "version": 3
   },
   "file_extension": ".py",
   "mimetype": "text/x-python",
   "name": "python",
   "nbconvert_exporter": "python",
   "pygments_lexer": "ipython3",
   "version": "3.6.8"
  }
 },
 "nbformat": 4,
 "nbformat_minor": 1
}
