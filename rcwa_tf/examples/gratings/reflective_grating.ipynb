{
  "nbformat": 4,
  "nbformat_minor": 0,
  "metadata": {
    "colab": {
      "name": "reflective_grating.ipynb",
      "provenance": [],
      "collapsed_sections": [],
      "machine_shape": "hm"
    },
    "kernelspec": {
      "name": "python3",
      "display_name": "Python 3"
    },
    "accelerator": "GPU"
  },
  "cells": [
    {
      "cell_type": "markdown",
      "metadata": {
        "id": "Xc53ZNVtt2DK",
        "colab_type": "text"
      },
      "source": [
        "**Imports**"
      ]
    },
    {
      "cell_type": "code",
      "metadata": {
        "id": "-tBvcSHDt40H",
        "colab_type": "code",
        "colab": {}
      },
      "source": [
        "import tensorflow as tf\n",
        "import numpy as np\n",
        "import rcwa_utils\n",
        "import tensor_utils\n",
        "import solver\n",
        "import matplotlib.pyplot as plt"
      ],
      "execution_count": 1,
      "outputs": []
    },
    {
      "cell_type": "markdown",
      "metadata": {
        "id": "ZZsj6Huot-sn",
        "colab_type": "text"
      },
      "source": [
        "**Loss Function Definition**"
      ]
    },
    {
      "cell_type": "code",
      "metadata": {
        "id": "-ZzTt9P8t-CQ",
        "colab_type": "code",
        "colab": {}
      },
      "source": [
        "def loss_func():\n",
        "\n",
        "  # Global parameters dictionary.\n",
        "  global params\n",
        "\n",
        "  # Generate permittivity and permeability distributions.\n",
        "  ER_t, UR_t = solver.generate_cylindrical_nanoposts(var_duty, params)\n",
        "\n",
        "  # Simulate the system.\n",
        "  outputs = solver.simulate(ER_t, UR_t, params)\n",
        "\n",
        "  # Maximize the reflectance.\n",
        "  ref_lambda1 = outputs['REF'][0, 0, 0]\n",
        "\n",
        "  return (1 - ref_lambda1)"
      ],
      "execution_count": 2,
      "outputs": []
    },
    {
      "cell_type": "markdown",
      "metadata": {
        "id": "nPtzCzc6uD-3",
        "colab_type": "text"
      },
      "source": [
        "**Setup and Initialize Variables**"
      ]
    },
    {
      "cell_type": "code",
      "metadata": {
        "id": "fOKOZVWDuEI-",
        "colab_type": "code",
        "colab": {}
      },
      "source": [
        "# Initialize global `params` dictionary storing optimization and simulation settings.\n",
        "params = solver.initialize_params(wavelengths = [632.0], thetas = [0.0])\n",
        "params['erd'] = 6.76 # Grating layer permittivity.\n",
        "params['ers'] = 2.25 # Subtrate layer permittivity.\n",
        "params['PQ'] = [11, 11] # Fourier Harmonics.\n",
        "\n",
        "# Initialize grating duty cycle variable.\n",
        "var_shape = (1, params['pixelsX'], params['pixelsY'])\n",
        "duty_initial = 0.6 * np.ones(shape = var_shape)\n",
        "var_duty = tf.Variable(duty_initial, dtype = tf.float32)"
      ],
      "execution_count": 3,
      "outputs": []
    },
    {
      "cell_type": "markdown",
      "metadata": {
        "id": "nZ8sGxj9uWVf",
        "colab_type": "text"
      },
      "source": [
        "**Optimize**"
      ]
    },
    {
      "cell_type": "code",
      "metadata": {
        "id": "9XyygRg0uWdv",
        "colab_type": "code",
        "colab": {
          "base_uri": "https://localhost:8080/",
          "height": 34
        },
        "outputId": "85f89e7f-a722-4395-d1fa-f505438fbc95"
      },
      "source": [
        "# Number of optimization iterations.\n",
        "N = 49\n",
        "\n",
        "# Define an optimizer and data to be stored.\n",
        "opt = tf.keras.optimizers.Adam(learning_rate = 1E-3)\n",
        "loss = np.zeros(N + 1)\n",
        "duty = np.zeros(N + 1)\n",
        "length = np.zeros(N + 1)\n",
        "\n",
        "# Compute the initial loss.\n",
        "loss[0] = loss_func().numpy()\n",
        "\n",
        "# Optimize.\n",
        "print('Optimizing...')\n",
        "for i in range(N):\n",
        "  opt.minimize(loss_func, var_list = [var_duty])\n",
        "  loss[i + 1] = loss_func().numpy()"
      ],
      "execution_count": 4,
      "outputs": [
        {
          "output_type": "stream",
          "text": [
            "Optimizing...\n"
          ],
          "name": "stdout"
        }
      ]
    },
    {
      "cell_type": "markdown",
      "metadata": {
        "id": "HAD2a8oludGP",
        "colab_type": "text"
      },
      "source": [
        "**Display Learning Curve**"
      ]
    },
    {
      "cell_type": "code",
      "metadata": {
        "id": "Axql3myAaZ2V",
        "colab_type": "code",
        "colab": {
          "base_uri": "https://localhost:8080/",
          "height": 278
        },
        "outputId": "a9da9e39-361f-4c90-a583-a33aeb54c043"
      },
      "source": [
        "plt.plot(loss)\n",
        "plt.xlabel('Iterations')\n",
        "plt.ylabel('Transmittance')\n",
        "plt.xlim(0, N)\n",
        "plt.show()"
      ],
      "execution_count": 9,
      "outputs": [
        {
          "output_type": "display_data",
          "data": {
            "image/png": "[encoded data removed]",
            "text/plain": [
              "<Figure size 432x288 with 1 Axes>"
            ]
          },
          "metadata": {
            "tags": [],
            "needs_background": "light"
          }
        }
      ]
    },
    {
      "cell_type": "code",
      "metadata": {
        "id": "60hyJXTYuoUH",
        "colab_type": "code",
        "colab": {}
      },
      "source": [
        ""
      ],
      "execution_count": 5,
      "outputs": []
    }
  ]
}