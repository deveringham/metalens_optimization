{
  "nbformat": 4,
  "nbformat_minor": 0,
  "metadata": {
    "colab": {
      "name": "reflective_grating_bilayer.ipynb",
      "provenance": [],
      "collapsed_sections": [],
      "machine_shape": "hm"
    },
    "kernelspec": {
      "name": "python3",
      "display_name": "Python 3"
    },
    "accelerator": "GPU"
  },
  "cells": [
    {
      "cell_type": "markdown",
      "metadata": {
        "id": "S6L3mz1Ub6ix",
        "colab_type": "text"
      },
      "source": [
        "**Imports**"
      ]
    },
    {
      "cell_type": "code",
      "metadata": {
        "id": "fX1EwfpHb6uM",
        "colab_type": "code",
        "colab": {}
      },
      "source": [
        "import tensorflow as tf\n",
        "import numpy as np\n",
        "import rcwa_utils\n",
        "import tensor_utils\n",
        "import solver\n",
        "import matplotlib.pyplot as plt"
      ],
      "execution_count": 1,
      "outputs": []
    },
    {
      "cell_type": "markdown",
      "metadata": {
        "id": "BVg1SxsMb67Q",
        "colab_type": "text"
      },
      "source": [
        "**Loss Function Definition**"
      ]
    },
    {
      "cell_type": "code",
      "metadata": {
        "id": "qauhDr0mb7GX",
        "colab_type": "code",
        "colab": {}
      },
      "source": [
        "def loss_func():\n",
        "  \n",
        "  # Global parameters dictionary.\n",
        "  global params\n",
        "\n",
        "  # Generate permitivitty and permeability distributions.\n",
        "  ER_t, UR_t = solver.generate_stacked_cylindrical_nanoposts(var_duty, params)\n",
        "\n",
        "  # Set the device layer thickness based on the length variable.\n",
        "  thickness_coeff = tf.clip_by_value(var_length, clip_value_min = params['length_min'], clip_value_max = params['length_max'])\n",
        "  thickness_coeff = tf.cast(thickness_coeff, dtype = tf.complex64)\n",
        "  substrate_length_shape = (1, 1, 1, 1, 1, 1)\n",
        "  device_length_shape = (1, 1, 1, params['Nlay'] - 1, 1, 1)\n",
        "  substrate_layer = tf.ones(shape = substrate_length_shape, dtype = tf.complex64)\n",
        "  device_layer = thickness_coeff * tf.ones(shape = device_length_shape, dtype = tf.complex64)\n",
        "  wavelength = params['lam0'][0, 0, 0, 0, 0, 0].numpy()\n",
        "  params['L'] = wavelength * tf.concat([device_layer, substrate_layer], axis = 3)\n",
        "\n",
        "  # Simulate the system.\n",
        "  outputs = solver.simulate(ER_t, UR_t, params)\n",
        "\n",
        "  # Maximize the reflectance at the first angle and minimize the reflectance at the second angle.\n",
        "  ref_theta1 = outputs['REF'][0, 0, 0]\n",
        "  ref_theta2 = outputs['REF'][1, 0, 0]\n",
        "\n",
        "  return -ref_theta1 * (1 - ref_theta2)"
      ],
      "execution_count": 2,
      "outputs": []
    },
    {
      "cell_type": "markdown",
      "metadata": {
        "id": "zCFVOxH7b7SQ",
        "colab_type": "text"
      },
      "source": [
        "**Setup and Initialize Variables**"
      ]
    },
    {
      "cell_type": "code",
      "metadata": {
        "id": "2tH-Uww7b7dP",
        "colab_type": "code",
        "colab": {}
      },
      "source": [
        "# Initialize duty cycle variable and global params dictionary.\n",
        "params = solver.initialize_params(wavelengths = [632.0, 632.0],\n",
        "                      thetas = [2.5, 7.5],\n",
        "                      phis = [0.0, 0.0],\n",
        "                      pte = [1.0, 1.0],\n",
        "                      ptm = [0.0, 0.0])\n",
        "params['erd'] = 6.76 # Grating layer permittivity.\n",
        "params['ers'] = 2.25 # Subtrate layer permittivity.\n",
        "params['PQ'] = [11, 11] # Fourier Harmonics.\n",
        "params['batchSize'] = 2\n",
        "\n",
        "# Initialize grating duty cycle variables for top and bottom cylinders.\n",
        "params['Nlay'] = 3\n",
        "Nlay = params['Nlay']\n",
        "var_shape = (1, params['pixelsX'], params['pixelsY'], params['Nlay'] - 1)\n",
        "duty_initial = np.ones(shape = var_shape)\n",
        "duty_initial[0, 0, 0, 0] = 0.8\n",
        "duty_initial[0, 0, 0, 1] = 0.4\n",
        "var_duty = tf.Variable(duty_initial, dtype = tf.float32)\n",
        "\n",
        "# Initialize grating thickness variables for top and bottom cylinders.\n",
        "var_length_shape = (1, 1, 1, params['Nlay'] - 1, 1, 1)\n",
        "length_initial = np.ones(shape = var_length_shape)\n",
        "length_initial[0, 0, 0, 0, 0, 0] = 1.0\n",
        "length_initial[0, 0, 0, 1, 0, 0] = 0.5\n",
        "var_length = tf.Variable(length_initial, dtype = tf.float32)"
      ],
      "execution_count": 3,
      "outputs": []
    },
    {
      "cell_type": "markdown",
      "metadata": {
        "id": "JYlaVZWPb7o_",
        "colab_type": "text"
      },
      "source": [
        "**Optimize**"
      ]
    },
    {
      "cell_type": "code",
      "metadata": {
        "id": "Skw4sy9Nb701",
        "colab_type": "code",
        "colab": {
          "base_uri": "https://localhost:8080/",
          "height": 35
        },
        "outputId": "61e8f6ea-ca6e-4750-8e0b-996a1656d11a"
      },
      "source": [
        "# Number of optimization iterations.\n",
        "N = 200\n",
        "\n",
        "# Define an optimizer and data to be stored.\n",
        "opt = tf.keras.optimizers.Adam(learning_rate = 0.002)\n",
        "loss = np.zeros(N + 1)\n",
        "\n",
        "# Compute initial loss.\n",
        "loss[0] = loss_func().numpy()\n",
        "\n",
        "# Optimize.\n",
        "print('Optimizing...')\n",
        "for i in range(N):\n",
        "  opt.minimize(loss_func, var_list = [var_duty, var_length])\n",
        "  loss[i + 1] = loss_func().numpy()"
      ],
      "execution_count": 4,
      "outputs": [
        {
          "output_type": "stream",
          "text": [
            "Optimizing...\n"
          ],
          "name": "stdout"
        }
      ]
    },
    {
      "cell_type": "markdown",
      "metadata": {
        "id": "FPoVlWYGb7_-",
        "colab_type": "text"
      },
      "source": [
        "**Display Learning Curve**"
      ]
    },
    {
      "cell_type": "code",
      "metadata": {
        "id": "NFznjv6pb8MK",
        "colab_type": "code",
        "colab": {
          "base_uri": "https://localhost:8080/",
          "height": 279
        },
        "outputId": "8031a1f8-82ce-4355-e4a8-507883723e78"
      },
      "source": [
        "plt.plot(loss)\n",
        "plt.xlabel('Iterations')\n",
        "plt.ylabel('Loss')\n",
        "plt.xlim(0, N)\n",
        "plt.show()"
      ],
      "execution_count": 5,
      "outputs": [
        {
          "output_type": "display_data",
          "data": {
            "image/png": "[encoded data removed]",
            "text/plain": [
              "<Figure size 432x288 with 1 Axes>"
            ]
          },
          "metadata": {
            "tags": [],
            "needs_background": "light"
          }
        }
      ]
    }
  ]
}