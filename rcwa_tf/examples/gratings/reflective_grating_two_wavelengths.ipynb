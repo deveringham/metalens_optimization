{
  "nbformat": 4,
  "nbformat_minor": 0,
  "metadata": {
    "colab": {
      "name": "reflective_grating_two_wavelengths.ipynb",
      "provenance": [],
      "collapsed_sections": [],
      "machine_shape": "hm"
    },
    "kernelspec": {
      "name": "python3",
      "display_name": "Python 3"
    },
    "accelerator": "GPU"
  },
  "cells": [
    {
      "cell_type": "markdown",
      "metadata": {
        "id": "iXojb3z1X_fo",
        "colab_type": "text"
      },
      "source": [
        "**Imports**"
      ]
    },
    {
      "cell_type": "code",
      "metadata": {
        "id": "HJ9-UNNjX_qN",
        "colab_type": "code",
        "colab": {}
      },
      "source": [
        "import tensorflow as tf\n",
        "import numpy as np\n",
        "import rcwa_utils\n",
        "import tensor_utils\n",
        "import solver\n",
        "import matplotlib.pyplot as plt"
      ],
      "execution_count": null,
      "outputs": []
    },
    {
      "cell_type": "markdown",
      "metadata": {
        "id": "76Zw4T37Yjsl",
        "colab_type": "text"
      },
      "source": [
        "**Loss Function Definition**"
      ]
    },
    {
      "cell_type": "code",
      "metadata": {
        "id": "N52BVsa8YkBK",
        "colab_type": "code",
        "colab": {}
      },
      "source": [
        "def loss_func():\n",
        "\n",
        "  # Global parameters dictionary.\n",
        "  global params\n",
        "\n",
        "  # Generate permitivitty and permeability distributions.\n",
        "  ER_t, UR_t = solver.generate_cylindrical_nanoposts(var_duty, params)\n",
        "\n",
        "  # Set the device layer thickness based on the length variable.\n",
        "  thickness_coeff = tf.clip_by_value(var_length, clip_value_min = params['length_min'], clip_value_max = params['length_max'])\n",
        "  thickness_coeff = tf.cast(thickness_coeff, dtype = tf.complex64)\n",
        "  length_shape = (1, 1, 1, 1, 1, 1)\n",
        "  substrate_layer = tf.ones(shape = length_shape, dtype = tf.complex64)\n",
        "  device_layer = thickness_coeff * tf.ones(shape = length_shape, dtype = tf.complex64)\n",
        "  wavelength = params['lam0'][0, 0, 0, 0, 0, 0].numpy()\n",
        "  params['L'] = wavelength * tf.concat([device_layer, substrate_layer], axis = 3)\n",
        "\n",
        "  # Simulate the system.\n",
        "  outputs = solver.simulate(ER_t, UR_t, params)\n",
        "\n",
        "  # Maximize the product of the reflectances.\n",
        "  ref_lambda1 = outputs['REF'][0, 0, 0]\n",
        "  ref_lambda2 = outputs['REF'][1, 0, 0]\n",
        "\n",
        "  return -ref_lambda1 * ref_lambda2"
      ],
      "execution_count": null,
      "outputs": []
    },
    {
      "cell_type": "markdown",
      "metadata": {
        "id": "zsz_XCZjYqtr",
        "colab_type": "text"
      },
      "source": [
        "**Setup and Initialize Variables**"
      ]
    },
    {
      "cell_type": "code",
      "metadata": {
        "id": "trCBNNrHYq0a",
        "colab_type": "code",
        "colab": {}
      },
      "source": [
        "# Initialize global params dictionary.\n",
        "params = solver.initialize_params(wavelengths = [632.0, 530.0],\n",
        "                      thetas = [0.0, 0.0],\n",
        "                      phis = [0.0, 0.0],\n",
        "                      pte = [1.0, 1.0],\n",
        "                      ptm = [0.0, 0.0])\n",
        "params['erd'] = 6.76 # Grating layer permittivity.\n",
        "params['ers'] = 2.25 # Subtrate layer permittivity.\n",
        "params['PQ'] = [11, 11] # Fourier Harmonics.\n",
        "\n",
        "# Initialize grating duty cycle variable.\n",
        "var_shape = (1, params['pixelsX'], params['pixelsY'])\n",
        "duty_initial = 0.8 * np.ones(shape = var_shape)\n",
        "var_duty = tf.Variable(duty_initial, dtype = tf.float32)\n",
        "\n",
        "# Initialize grating thickness variable.\n",
        "length_initial = 0.25\n",
        "var_length = tf.Variable(length_initial, dtype = tf.float32)"
      ],
      "execution_count": null,
      "outputs": []
    },
    {
      "cell_type": "markdown",
      "metadata": {
        "id": "WvVK-VXMYq79",
        "colab_type": "text"
      },
      "source": [
        "**Optimize**"
      ]
    },
    {
      "cell_type": "code",
      "metadata": {
        "id": "WBLtRB3gYrDG",
        "colab_type": "code",
        "colab": {
          "base_uri": "https://localhost:8080/",
          "height": 34
        },
        "outputId": "c2de1613-6457-41c9-c739-6e74e46f93bb"
      },
      "source": [
        "# Number of optimization iterations.\n",
        "N = 200\n",
        "\n",
        "# Define an optimizer and data to be stored.\n",
        "opt = tf.keras.optimizers.Adam(learning_rate = 0.0005)\n",
        "loss = np.zeros(N + 1)\n",
        "\n",
        "# Compute initial loss.\n",
        "loss[0] = loss_func().numpy()\n",
        "\n",
        "# Optimize.\n",
        "print('Optimizing...')\n",
        "for i in range(N):\n",
        "  opt.minimize(loss_func, var_list = [var_duty, var_length])\n",
        "  loss[i + 1] = loss_func().numpy()"
      ],
      "execution_count": null,
      "outputs": [
        {
          "output_type": "stream",
          "text": [
            "Optimizing...\n"
          ],
          "name": "stdout"
        }
      ]
    },
    {
      "cell_type": "markdown",
      "metadata": {
        "id": "jEcnCtAiYrLa",
        "colab_type": "text"
      },
      "source": [
        "**Display Learning Curve**"
      ]
    },
    {
      "cell_type": "code",
      "metadata": {
        "id": "Axql3myAaZ2V",
        "colab_type": "code",
        "colab": {
          "base_uri": "https://localhost:8080/",
          "height": 278
        },
        "outputId": "6b69cc04-a97e-431c-b65e-f842b431fb61"
      },
      "source": [
        "plt.plot(loss)\n",
        "plt.xlabel('Iterations')\n",
        "plt.ylabel('Loss')\n",
        "plt.xlim(0, N)\n",
        "plt.show()"
      ],
      "execution_count": null,
      "outputs": [
        {
          "output_type": "display_data",
          "data": {
            "image/png": "[encoded data removed]",
            "text/plain": [
              "<Figure size 432x288 with 1 Axes>"
            ]
          },
          "metadata": {
            "tags": [],
            "needs_background": "light"
          }
        }
      ]
    }
  ]
}