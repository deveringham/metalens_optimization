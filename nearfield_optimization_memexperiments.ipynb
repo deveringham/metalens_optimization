{
 "cells": [
  {
   "cell_type": "markdown",
   "id": "0a0d39c1",
   "metadata": {},
   "source": [
    "**Configure Devices**"
   ]
  },
  {
   "cell_type": "code",
   "execution_count": null,
   "id": "5844cbcf",
   "metadata": {},
   "outputs": [],
   "source": [
    "import sys\n",
    "import tensorflow as tf\n",
    "sys.path.append('./src/')\n",
    "sys.path.append('./rcwa_tf/src/')\n",
    "import tf_utils"
   ]
  },
  {
   "cell_type": "code",
   "execution_count": null,
   "id": "2c58e2a2",
   "metadata": {},
   "outputs": [],
   "source": [
    "# Limit GPU memory growth.\n",
    "tf_utils.config_gpu_memory_usage()\n",
    "\n",
    "# Choose the device to run on.\n",
    "use_gpu = True\n",
    "##### REMEMBER: CHANGE BACK TO GPU:1\n",
    "tfDevice = '/job:localhost/replica:0/task:0/device:GPU:1' if use_gpu else '/CPU:0'\n",
    "print('Executing on device ' + tfDevice + ' ...')\n",
    "\n",
    "# Measure GPU memory usage.\n",
    "gpu_memory_init = tf_utils.gpu_memory_info()"
   ]
  },
  {
   "cell_type": "markdown",
   "id": "577ba998",
   "metadata": {},
   "source": [
    "**Dependencies**"
   ]
  },
  {
   "cell_type": "code",
   "execution_count": null,
   "id": "0c67686c",
   "metadata": {},
   "outputs": [],
   "source": [
    "import numpy as np\n",
    "import matplotlib.pyplot as plt\n",
    "import solver\n",
    "import solver_metasurface\n",
    "import time"
   ]
  },
  {
   "cell_type": "markdown",
   "id": "1da99630",
   "metadata": {},
   "source": [
    "**Loss Function Definition**"
   ]
  },
  {
   "cell_type": "code",
   "execution_count": null,
   "id": "a5546777",
   "metadata": {},
   "outputs": [],
   "source": [
    "def loss_function(h, params):\n",
    "    \n",
    "    # Generate permittivity and permeability distributions.\n",
    "    ER_t, UR_t = solver_metasurface.generate_layered_metasurface(h, params)\n",
    "\n",
    "    # Simulate the system.\n",
    "    outputs = solver.simulate_recompute(ER_t, UR_t, params)\n",
    "    \n",
    "    # First loss term: maximize sum of electric field magnitude within some radius of the desired focal point.\n",
    "    r = params['focal_spot_radius']\n",
    "    field = outputs['ty'][:, :, :, np.prod(params['PQ']) // 2, 0]\n",
    "    focal_plane = solver.propagate(params['input'] * field, params['propagator'], params['upsample'])\n",
    "    index = (params['pixelsX'] * params['upsample']) // 2\n",
    "    l1 = tf.math.reduce_sum(tf.abs(focal_plane[0, index-r:index+r, index-r:index+r]))\n",
    "\n",
    "    # Final loss: (negative) field intensity at focal point + field intensity elsewhere.\n",
    "    return -params['w_l1']*l1"
   ]
  },
  {
   "cell_type": "markdown",
   "id": "ac9fd648",
   "metadata": {},
   "source": [
    "**Initialize User-Configurable Parameters**"
   ]
  },
  {
   "cell_type": "code",
   "execution_count": null,
   "id": "7aeded4b",
   "metadata": {},
   "outputs": [],
   "source": [
    "with tf.device(tfDevice):\n",
    "    \n",
    "    # Initialize dict of user-configurable parameters.\n",
    "    user_params = {}\n",
    "    \n",
    "    # Flage to enable hyperparameter grid search.\n",
    "    user_params['enable_hyperparameter_gridsearch'] = True\n",
    "    \n",
    "    # Tunable parameters.\n",
    "    user_params['N'] = 10\n",
    "    user_params['sigmoid_update'] = 20.0\n",
    "    user_params['learning_rate'] = 4E-1\n",
    "    user_params['initial_height'] = 0\n",
    "    \n",
    "    user_params['parameter_string'] = 'N' + str(user_params['N']) \\\n",
    "        + '-sigmoid_update' + str(user_params['sigmoid_update']) \\\n",
    "        + '-learning_rate' + str(user_params['learning_rate']) \\\n",
    "        + '-initial_height' + str(user_params['initial_height'])\n",
    "    \n",
    "    # Values to use in hyperparameter grid search.\n",
    "    # Stored as a dict. Each dict key is the key in user_params corresponding to a tunable\n",
    "    # hyperparameter, i.e. 'N' and its value is a list of values to try for that hyperparameter.\n",
    "    param_grid = {'N': [10],\n",
    "                  'sigmoid_update': [10.0, 20.0],\n",
    "                  'learning_rate': [2E-1],\n",
    "                  'initial_height': [0]}\n",
    "    user_params['param_grid'] = param_grid\n",
    "    \n",
    "    \n",
    "    # Source parameters.\n",
    "    user_params['wavelengths'] = [120000.0]\n",
    "    user_params['thetas'] = [0.0]\n",
    "    user_params['phis'] = [0.0]\n",
    "    user_params['pte'] = [1.0]\n",
    "    user_params['ptm'] = [0.0]\n",
    "    \n",
    "    # Device parmeters.\n",
    "    user_params['pixelsX'] = 18\n",
    "    user_params['pixelsY'] = user_params['pixelsX']\n",
    "    user_params['erd'] = 12.04\n",
    "    user_params['ers'] = user_params['erd']\n",
    "    user_params['L'] = [50000.0, 50000.0, 50000.0, 50000.0, 50000.0, 950000.0]\n",
    "    user_params['Lx'] = 20000.0\n",
    "    #user_params['Lx'] = 5000000. / user_params['pixelsX']\n",
    "    user_params['Ly'] = user_params['Lx']\n",
    "    user_params['f'] = 0.0 # Focal distance (nm)\n",
    "    \n",
    "    # Solver parameters.\n",
    "    user_params['PQ'] = [5,5]\n",
    "    user_params['upsample'] = 11\n",
    "    \n",
    "    # Problem parameters.\n",
    "    user_params['w_l1'] = 1.0\n",
    "    user_params['sigmoid_coeff'] = 1.0\n",
    "    user_params['focal_spot_radius'] = 10\n",
    "    user_params['enable_random_init'] = False\n",
    "    user_params['enable_debug'] = False\n",
    "    user_params['enable_print'] = True\n",
    "    user_params['enable_timing'] = True\n",
    "    \n",
    "    # Loss function.\n",
    "    user_params['loss_function'] = loss_function\n",
    "    \n",
    "    # Logging parameters.\n",
    "    user_params['enable_logging'] = True\n",
    "    user_params['log_filename_prefix'] = 'nearfield-' + str(user_params['pixelsX']) + 'x' + str(user_params['pixelsY']) + '-'\n",
    "    user_params['log_filename_extension'] = '.log'\n",
    "    user_params['load_result'] = False\n",
    "    user_params['load_filename'] = user_params['log_filename_prefix'] + user_params['parameter_string'] + user_params['log_filename_extension']"
   ]
  },
  {
   "cell_type": "markdown",
   "id": "6c5aa759",
   "metadata": {},
   "source": [
    "**Run Tests**"
   ]
  },
  {
   "cell_type": "code",
   "execution_count": null,
   "id": "832b76fc",
   "metadata": {
    "scrolled": true
   },
   "outputs": [],
   "source": [
    "with tf.device(tfDevice):\n",
    "    \n",
    "    if user_params['enable_timing']:\n",
    "        start_time = time.time()\n",
    "            \n",
    "    if user_params['enable_hyperparameter_gridsearch']:\n",
    "        \n",
    "        # Perform the hyperparameter grid search.\n",
    "        results = solver_metasurface.hyperparameter_gridsearch(user_params)\n",
    "        \n",
    "        # Get list of evaluation scores.\n",
    "        scores = [r['eval_score'] for r in results]\n",
    "\n",
    "        # Select hyperparameters corresponding to best evaluation score.\n",
    "        result = results[np.argmax(scores)]\n",
    "        h = result['h']\n",
    "        loss = result['loss']\n",
    "        focal_plane = result['focal_plane']\n",
    "        eval_score = result['eval_score']\n",
    "        params = result['params']\n",
    "\n",
    "        if user_params['enable_print']:\n",
    "            print('Best hyperparameters: ' + str(result['hyperparameters']))\n",
    "            print('With evaluation score: ' + str(eval_score))\n",
    "    \n",
    "    elif user_params['load_result']:\n",
    "        \n",
    "        if user_params['enable_print']:\n",
    "            print('Loading results from file ' + user_params['load_filename'] + ' .')\n",
    "        \n",
    "        result = solver_metasurface.load_result(user_params['load_filename'])\n",
    "        h = result['h']\n",
    "        loss = result['loss']\n",
    "        focal_plane = result['focal_plane']\n",
    "        eval_score = result['eval_score']\n",
    "        \n",
    "    else:\n",
    "        \n",
    "        # Optimize.\n",
    "        h, loss, params = solver_metasurface.optimize_device(user_params)\n",
    "        \n",
    "        # Get full device representation of resulting metasurface.\n",
    "        ER_t, UR_t = solver_metasurface.generate_layered_metasurface(h, params)\n",
    "        \n",
    "        # Simulate scattering from the optimized device.\n",
    "        outputs = solver.simulate(ER_t, UR_t, params)\n",
    "        field = outputs['ty'][:, :, :, np.prod(params['PQ']) // 2, 0]\n",
    "        focal_plane = solver.propagate(params['input'] * field, params['propagator'], params['upsample'])\n",
    "        eval_score = solver_metasurface.evaluate_solution(focal_plane, params)\n",
    "        \n",
    "        # Compile results and output to a log file.\n",
    "        result = {'hyperparameter_names': ['N', 'sigmoid_update', 'learning_rate', 'initial_height'],\n",
    "            'hyperparameters': [user_params['N'], user_params['sigmoid_update'], user_params['learning_rate'], user_params['initial_height']],\n",
    "            'h': h,\n",
    "            'loss': loss,\n",
    "            'focal_plane': focal_plane,\n",
    "            'eval_score': eval_score}\n",
    "        solver_metasurface.log_result(result, user_params['log_filename_prefix'] + user_params['parameter_string'] + user_params['log_filename_extension'])\n",
    "    \n",
    "    if user_params['enable_timing']:\n",
    "        print('Completed tests in ' + str(time.time() - start_time) + ' s.')"
   ]
  },
  {
   "cell_type": "markdown",
   "id": "b296af59",
   "metadata": {},
   "source": [
    "**Display Learning Curve**"
   ]
  },
  {
   "cell_type": "code",
   "execution_count": null,
   "id": "e7d90c44",
   "metadata": {},
   "outputs": [],
   "source": [
    "with tf.device(tfDevice):\n",
    "    \n",
    "    plt.plot(loss)\n",
    "    plt.xlabel('Iterations')\n",
    "    plt.ylabel('Loss')\n",
    "    plt.show()"
   ]
  },
  {
   "cell_type": "markdown",
   "id": "672a7f4b",
   "metadata": {},
   "source": [
    "**Display Resulting Intensity on the Focal Plane**"
   ]
  },
  {
   "cell_type": "code",
   "execution_count": null,
   "id": "14bc2b19",
   "metadata": {},
   "outputs": [],
   "source": [
    "with tf.device(tfDevice):\n",
    "    \n",
    "    plt.imshow(tf.abs(focal_plane[0, :, :]) ** 2)\n",
    "    plt.colorbar()"
   ]
  },
  {
   "cell_type": "code",
   "execution_count": null,
   "id": "f84b83e9",
   "metadata": {
    "scrolled": true
   },
   "outputs": [],
   "source": [
    "with tf.device(tfDevice):\n",
    "    \n",
    "    index = (user_params['pixelsX'] * user_params['upsample']) // 2\n",
    "    plt.plot(tf.abs(focal_plane[0, index, :]) ** 2)\n",
    "    plt.xlabel('x')\n",
    "    plt.ylabel('Electric Field Intensity on Focal Plane')\n",
    "    plt.show()"
   ]
  },
  {
   "cell_type": "code",
   "execution_count": null,
   "id": "9735f458",
   "metadata": {},
   "outputs": [],
   "source": [
    "with tf.device(tfDevice):\n",
    "    \n",
    "    index = (user_params['pixelsX'] * user_params['upsample']) // 2\n",
    "    plt.plot(tf.abs(focal_plane[0, :, index]) ** 2)\n",
    "    plt.xlabel('y')\n",
    "    plt.ylabel('Electric Field Intensity on Focal Plane')\n",
    "    plt.show()"
   ]
  },
  {
   "cell_type": "markdown",
   "id": "a85e144f",
   "metadata": {},
   "source": [
    "**Display Metasurface**"
   ]
  },
  {
   "cell_type": "code",
   "execution_count": null,
   "id": "4c713df8",
   "metadata": {},
   "outputs": [],
   "source": [
    "with tf.device(tfDevice):\n",
    "    \n",
    "    ER_t, UR_t = solver_metasurface.generate_layered_metasurface(h, params)\n",
    "    solver_metasurface.display_layered_metasurface(ER_t, params)\n",
    "    print(h)"
   ]
  },
  {
   "cell_type": "markdown",
   "id": "43f90c58",
   "metadata": {},
   "source": [
    "**Check GPU Memory Utilization**"
   ]
  },
  {
   "cell_type": "code",
   "execution_count": null,
   "id": "2c94d19e",
   "metadata": {},
   "outputs": [],
   "source": [
    "gpu_memory_final = tf_utils.gpu_memory_info()\n",
    "gpu_memory_used = [gpu_memory_final[1][0] - gpu_memory_init[1][0], gpu_memory_final[1][1] - gpu_memory_init[1][1]]\n",
    "print('Memory used on each GPU(MiB): ' + str(gpu_memory_used))"
   ]
  }
 ],
 "metadata": {
  "kernelspec": {
   "display_name": "Python 3",
   "language": "python",
   "name": "python3"
  },
  "language_info": {
   "codemirror_mode": {
    "name": "ipython",
    "version": 3
   },
   "file_extension": ".py",
   "mimetype": "text/x-python",
   "name": "python",
   "nbconvert_exporter": "python",
   "pygments_lexer": "ipython3",
   "version": "3.6.8"
  }
 },
 "nbformat": 4,
 "nbformat_minor": 5
}
